{
  "nbformat": 4,
  "nbformat_minor": 0,
  "metadata": {
    "colab": {
      "name": "Convert Model.ipynb",
      "provenance": [],
      "collapsed_sections": []
    },
    "kernelspec": {
      "name": "python3",
      "display_name": "Python 3"
    },
    "language_info": {
      "name": "python"
    },
    "accelerator": "GPU"
  },
  "cells": [
    {
      "cell_type": "code",
      "execution_count": null,
      "metadata": {
        "id": "CYYwNdGQYXen"
      },
      "outputs": [],
      "source": [
        "import matplotlib.pyplot as plt\n",
        "import numpy as np\n",
        "import gdown\n",
        "import zipfile\n",
        "from tqdm import tqdm\n",
        "import tensorflow as tf\n",
        "from tensorflow.keras.models import load_model\n",
        "import os"
      ]
    },
    {
      "cell_type": "code",
      "source": [
        "model = load_model('/content/drive/MyDrive/Orbit_final_project/bestmodel8')\n",
        "model.summary()"
      ],
      "metadata": {
        "colab": {
          "base_uri": "https://localhost:8080/"
        },
        "id": "pqvuELU2Y9fa",
        "outputId": "fb626920-feef-4604-dc74-8e6184774c91"
      },
      "execution_count": null,
      "outputs": [
        {
          "output_type": "stream",
          "name": "stdout",
          "text": [
            "Model: \"model\"\n",
            "_________________________________________________________________\n",
            " Layer (type)                Output Shape              Param #   \n",
            "=================================================================\n",
            " model_1_input (InputLayer)  [(None, 224, 224, 3)]     0         \n",
            "                                                                 \n",
            " model_1 (Functional)        (None, 1280)              2257984   \n",
            "                                                                 \n",
            " dense (Dense)               (None, 1024)              1311744   \n",
            "                                                                 \n",
            " dropout (Dropout)           (None, 1024)              0         \n",
            "                                                                 \n",
            " batch_normalization (BatchN  (None, 1024)             4096      \n",
            " ormalization)                                                   \n",
            "                                                                 \n",
            " dense_1 (Dense)             (None, 1024)              1049600   \n",
            "                                                                 \n",
            " dropout_1 (Dropout)         (None, 1024)              0         \n",
            "                                                                 \n",
            " batch_normalization_1 (Batc  (None, 1024)             4096      \n",
            " hNormalization)                                                 \n",
            "                                                                 \n",
            " final_layer (Dense)         (None, 11)                11275     \n",
            "                                                                 \n",
            "=================================================================\n",
            "Total params: 4,638,795\n",
            "Trainable params: 2,376,715\n",
            "Non-trainable params: 2,262,080\n",
            "_________________________________________________________________\n"
          ]
        }
      ]
    },
    {
      "cell_type": "code",
      "source": [
        "from tensorflow.keras.preprocessing.image import ImageDataGenerator"
      ],
      "metadata": {
        "id": "1E8bFbeAya1a"
      },
      "execution_count": null,
      "outputs": []
    },
    {
      "cell_type": "code",
      "source": [
        "train_dir = '/content/drive/MyDrive/Orbit_final_project/data_split/train'\n",
        "test_dir = '/content/drive/MyDrive/Orbit_final_project/data_split/test'\n",
        "val_dir = '/content/drive/MyDrive/Orbit_final_project/data_split/val'\n",
        "\n",
        "test_datagen = ImageDataGenerator(\n",
        "                  rescale=1./255\n",
        ")\n",
        "\n",
        "train_datagen = ImageDataGenerator(rescale=1./255,\n",
        "      rotation_range=45,\n",
        "      width_shift_range=0.2,\n",
        "      height_shift_range=0.2,\n",
        "      shear_range=0.2,\n",
        "      zoom_range=0.2,\n",
        "      brightness_range=[0.6, 1.5],\n",
        "      horizontal_flip=True,\n",
        "      fill_mode='nearest')"
      ],
      "metadata": {
        "id": "7nUWfYUjyKX5"
      },
      "execution_count": null,
      "outputs": []
    },
    {
      "cell_type": "code",
      "source": [
        "train_generator = train_datagen.flow_from_directory(\n",
        "    directory=train_dir,\n",
        "    target_size=(224, 224),\n",
        "    batch_size=64,\n",
        "    class_mode='categorical',\n",
        "    shuffle=True\n",
        ")\n",
        "\n",
        "\n",
        "test_generator = test_datagen.flow_from_directory(\n",
        "    directory=test_dir,\n",
        "    target_size=(224, 224),\n",
        "    batch_size=434,\n",
        "    class_mode='categorical'\n",
        ")\n",
        "\n",
        "val_generator = test_datagen.flow_from_directory(\n",
        "    directory=test_dir,\n",
        "    target_size=(224, 224),\n",
        "    batch_size=434,\n",
        "    class_mode='categorical'\n",
        ")"
      ],
      "metadata": {
        "colab": {
          "base_uri": "https://localhost:8080/"
        },
        "id": "zhi3AanxyX55",
        "outputId": "b6dabe50-9d0f-42e3-fb80-76c47bbb24a0"
      },
      "execution_count": null,
      "outputs": [
        {
          "output_type": "stream",
          "name": "stdout",
          "text": [
            "Found 2766 images belonging to 11 classes.\n",
            "Found 434 images belonging to 11 classes.\n",
            "Found 434 images belonging to 11 classes.\n"
          ]
        }
      ]
    },
    {
      "cell_type": "code",
      "source": [
        "model.evaluate(train_generator)"
      ],
      "metadata": {
        "colab": {
          "base_uri": "https://localhost:8080/"
        },
        "id": "r53_S-0eyjK4",
        "outputId": "44eacea5-0c47-4f92-b793-86cd70ab814d"
      },
      "execution_count": null,
      "outputs": [
        {
          "output_type": "stream",
          "name": "stdout",
          "text": [
            "44/44 [==============================] - 202s 5s/step - loss: 0.4291 - accuracy: 0.9364\n"
          ]
        },
        {
          "output_type": "execute_result",
          "data": {
            "text/plain": [
              "[0.42912811040878296, 0.9363701939582825]"
            ]
          },
          "metadata": {},
          "execution_count": 14
        }
      ]
    },
    {
      "cell_type": "code",
      "source": [
        "model.evaluate(test_generator)"
      ],
      "metadata": {
        "colab": {
          "base_uri": "https://localhost:8080/"
        },
        "id": "kf84nKhZysFe",
        "outputId": "002993c8-dd2c-45c1-8fc3-8cc2916b4d68"
      },
      "execution_count": null,
      "outputs": [
        {
          "output_type": "stream",
          "name": "stdout",
          "text": [
            "1/1 [==============================] - 30s 30s/step - loss: 0.3688 - accuracy: 0.9631\n"
          ]
        },
        {
          "output_type": "execute_result",
          "data": {
            "text/plain": [
              "[0.36877384781837463, 0.9631336331367493]"
            ]
          },
          "metadata": {},
          "execution_count": 15
        }
      ]
    },
    {
      "cell_type": "code",
      "source": [
        "model.evaluate(val_generator)"
      ],
      "metadata": {
        "colab": {
          "base_uri": "https://localhost:8080/"
        },
        "id": "9q6TFcajyy5Z",
        "outputId": "ab07cf75-8aff-4b92-eb41-dbd06fec4622"
      },
      "execution_count": null,
      "outputs": [
        {
          "output_type": "stream",
          "name": "stdout",
          "text": [
            "1/1 [==============================] - 28s 28s/step - loss: 0.3688 - accuracy: 0.9631\n"
          ]
        },
        {
          "output_type": "execute_result",
          "data": {
            "text/plain": [
              "[0.368773877620697, 0.9631336331367493]"
            ]
          },
          "metadata": {},
          "execution_count": 16
        }
      ]
    },
    {
      "cell_type": "code",
      "source": [
        "import numpy as np"
      ],
      "metadata": {
        "id": "ZrFbGfrM3wJN"
      },
      "execution_count": null,
      "outputs": []
    },
    {
      "cell_type": "code",
      "source": [
        "label = list(train_generator.class_indices.keys())\n",
        "label"
      ],
      "metadata": {
        "colab": {
          "base_uri": "https://localhost:8080/"
        },
        "id": "PgyAG9Sj4BB3",
        "outputId": "80ba90e1-9a7d-446e-c284-fdfb7afba533"
      },
      "execution_count": null,
      "outputs": [
        {
          "output_type": "execute_result",
          "data": {
            "text/plain": [
              "['bika_ambon',\n",
              " 'cucur',\n",
              " 'dadar_gulung',\n",
              " 'data_selain_kue',\n",
              " 'klepon',\n",
              " 'kue_cubit',\n",
              " 'kue_lupis',\n",
              " 'kue_pukis',\n",
              " 'kue_sus',\n",
              " 'onde_onde',\n",
              " 'putu_ayu']"
            ]
          },
          "metadata": {},
          "execution_count": 18
        }
      ]
    },
    {
      "cell_type": "code",
      "source": [
        "def predict(path, model):\n",
        "    img = tf.keras.utils.load_img(path, target_size=(224, 224, 3))\n",
        "    img = np.array(img)\n",
        "    img = img/255\n",
        "    pred = model.predict(img[np.newaxis, ...])\n",
        "    score = np.max(pred)\n",
        "    classes_idx = np.argmax(pred)\n",
        "    classes = label[classes_idx]\n",
        "    return classes, score"
      ],
      "metadata": {
        "id": "oywV7M8d3ApA"
      },
      "execution_count": null,
      "outputs": []
    },
    {
      "cell_type": "code",
      "source": [
        "test = [i for i in os.listdir('/content') if \"jpeg\" in i]\n",
        "test"
      ],
      "metadata": {
        "colab": {
          "base_uri": "https://localhost:8080/"
        },
        "id": "SJULrpFvWXSs",
        "outputId": "70a3639e-000b-4ac4-942d-8858d62fe332"
      },
      "execution_count": null,
      "outputs": [
        {
          "output_type": "execute_result",
          "data": {
            "text/plain": [
              "['WhatsApp Image 2022-01-15 at 22.19.36.jpeg',\n",
              " 'WhatsApp Image 2022-01-15 at 22.19.36 (2).jpeg',\n",
              " 'WhatsApp Image 2022-01-15 at 22.19.36 (3).jpeg',\n",
              " 'WhatsApp Image 2022-01-15 at 22.19.36 (1).jpeg',\n",
              " 'WhatsApp Image 2022-01-15 at 22.19.36 (4).jpeg',\n",
              " 'WhatsApp Image 2022-01-15 at 22.19.36 (5).jpeg']"
            ]
          },
          "metadata": {},
          "execution_count": 40
        }
      ]
    },
    {
      "cell_type": "code",
      "source": [
        "for tst in test:\n",
        "    print(predict(tst, model))"
      ],
      "metadata": {
        "colab": {
          "base_uri": "https://localhost:8080/"
        },
        "id": "fvOQzmMRWZ-7",
        "outputId": "f1dfa161-d419-416a-f7a3-bfb0a7c0e1bc"
      },
      "execution_count": null,
      "outputs": [
        {
          "output_type": "stream",
          "name": "stdout",
          "text": [
            "('dadar_gulung', 0.83721393)\n",
            "('dadar_gulung', 0.8754961)\n",
            "('dadar_gulung', 0.6807771)\n",
            "('dadar_gulung', 0.9724275)\n",
            "('data_selain_kue', 0.8072602)\n",
            "('dadar_gulung', 0.48071653)\n"
          ]
        }
      ]
    },
    {
      "cell_type": "code",
      "source": [
        "predict('/content/WhatsApp Image 2022-01-15 at 22.19.36 (2).jpeg', model)"
      ],
      "metadata": {
        "colab": {
          "base_uri": "https://localhost:8080/"
        },
        "id": "YCehHXGD4SUE",
        "outputId": "249970b4-55fb-4b7c-8513-6695168efe20"
      },
      "execution_count": null,
      "outputs": [
        {
          "output_type": "execute_result",
          "data": {
            "text/plain": [
              "('dadar_gulung',\n",
              " 0.8754961,\n",
              " array([[6.0668826e-05, 8.9379258e-02, 8.7549609e-01, 6.7122830e-03,\n",
              "         8.9629451e-05, 1.3821803e-04, 3.5281030e-03, 1.5642622e-02,\n",
              "         2.5639567e-03, 4.4879180e-06, 6.3846707e-03]], dtype=float32))"
            ]
          },
          "metadata": {},
          "execution_count": 33
        }
      ]
    },
    {
      "cell_type": "code",
      "source": [
        "from tensorflow import saved_model\n",
        "import pathlib"
      ],
      "metadata": {
        "id": "GnCDp2D6Nhwh"
      },
      "execution_count": null,
      "outputs": []
    },
    {
      "cell_type": "code",
      "source": [
        "converter = tf.lite.TFLiteConverter.from_saved_model('/content/drive/MyDrive/Orbit_final_project/bestModel8/checkpoint_08')\n",
        "tflite_model = converter.convert()\n",
        " \n",
        "tflite_model_file = pathlib.Path('bestModel8.tflite')\n",
        "tflite_model_file.write_bytes(tflite_model)"
      ],
      "metadata": {
        "colab": {
          "base_uri": "https://localhost:8080/"
        },
        "id": "UTs3z2mXk-4l",
        "outputId": "93d8b857-7fd0-4634-f442-b70db3ed0a89"
      },
      "execution_count": null,
      "outputs": [
        {
          "output_type": "stream",
          "name": "stderr",
          "text": [
            "WARNING:absl:Buffer deduplication procedure will be skipped when flatbuffer library is not properly loaded\n"
          ]
        },
        {
          "output_type": "execute_result",
          "data": {
            "text/plain": [
              "18353612"
            ]
          },
          "metadata": {},
          "execution_count": 31
        }
      ]
    }
  ]
}