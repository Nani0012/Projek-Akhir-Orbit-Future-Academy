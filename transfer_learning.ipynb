{
  "cells": [
    {
      "cell_type": "markdown",
      "metadata": {
        "id": "y3dwviL1Cpv1"
      },
      "source": [
        "# Data Loading"
      ]
    },
    {
      "cell_type": "code",
      "execution_count": null,
      "metadata": {
        "id": "2Vmx8HBb0sdz"
      },
      "outputs": [],
      "source": [
        "import matplotlib.pyplot as plt\n",
        "import numpy as np\n",
        "import gdown\n",
        "import zipfile\n",
        "from tqdm import tqdm "
      ]
    },
    {
      "cell_type": "code",
      "execution_count": null,
      "metadata": {
        "colab": {
          "base_uri": "https://localhost:8080/",
          "height": 108
        },
        "id": "Ul9gq2ja1Xw0",
        "outputId": "aad478dc-596e-498e-cf3c-ef87e1fa023f"
      },
      "outputs": [
        {
          "output_type": "stream",
          "name": "stderr",
          "text": [
            "Downloading...\n",
            "From: https://drive.google.com/uc?export=download&id=1XYraKEO6YiW2YQldhwjc7Mt94VZOvhKk\n",
            "To: /content/dataset.zip\n",
            "100%|██████████| 2.99G/2.99G [00:38<00:00, 76.6MB/s]\n"
          ]
        },
        {
          "output_type": "execute_result",
          "data": {
            "application/vnd.google.colaboratory.intrinsic+json": {
              "type": "string"
            },
            "text/plain": [
              "'dataset.zip'"
            ]
          },
          "metadata": {},
          "execution_count": 2
        }
      ],
      "source": [
        "gdown.download('https://drive.google.com/uc?export=download&id=1XYraKEO6YiW2YQldhwjc7Mt94VZOvhKk', 'dataset.zip', quiet=False)"
      ]
    },
    {
      "cell_type": "code",
      "execution_count": null,
      "metadata": {
        "colab": {
          "base_uri": "https://localhost:8080/"
        },
        "id": "DvQQ5jh62DOs",
        "outputId": "8f731d18-3aea-4f17-fa66-b7c33467d30f"
      },
      "outputs": [
        {
          "output_type": "stream",
          "name": "stderr",
          "text": [
            "Extracting: 100%|██████████| 2939/2939 [01:08<00:00, 42.76it/s] \n"
          ]
        }
      ],
      "source": [
        "with zipfile.ZipFile('dataset.zip', mode='r') as zip_file:\n",
        "    for zf in tqdm(zip_file.infolist(), desc=\"Extracting\"):\n",
        "        try:\n",
        "            zip_file.extract(zf)                \n",
        "        except Exception as e:\n",
        "            print(e)\n",
        "zip_file.close()"
      ]
    },
    {
      "cell_type": "markdown",
      "metadata": {
        "id": "YRqa3-2eCtXM"
      },
      "source": [
        "# Preprocessing Data"
      ]
    },
    {
      "cell_type": "code",
      "source": [
        "from google.colab import drive\n",
        "drive.mount('/content/drive')"
      ],
      "metadata": {
        "colab": {
          "base_uri": "https://localhost:8080/"
        },
        "id": "WcdiML7X3SeQ",
        "outputId": "61e8260d-f326-4d16-834e-b1b123a501bd"
      },
      "execution_count": null,
      "outputs": [
        {
          "output_type": "stream",
          "name": "stdout",
          "text": [
            "Mounted at /content/drive\n"
          ]
        }
      ]
    },
    {
      "cell_type": "code",
      "execution_count": null,
      "metadata": {
        "id": "SDTxbcxp9cN_"
      },
      "outputs": [],
      "source": [
        "import os\n",
        "import shutil\n",
        "import tensorflow as tf\n",
        "from tensorflow.keras.preprocessing.image import ImageDataGenerator"
      ]
    },
    {
      "cell_type": "markdown",
      "metadata": {
        "id": "OFZXJh4HDZCJ"
      },
      "source": [
        "## Split Data"
      ]
    },
    {
      "cell_type": "code",
      "execution_count": null,
      "metadata": {
        "id": "RF-Uvt4fDaXk"
      },
      "outputs": [],
      "source": [
        "def split_data(data, train_size=0.8, random_seed=42):\n",
        "\n",
        "    \"\"\"Fungsi ini untuk memisahkan data menjadi train set dan validation_set\n",
        "    dengan urutan hasil return : data_train, data_validasi\"\"\"\n",
        "    np.random.seed(int(random_seed))\n",
        "    test_size=1-train_size\n",
        "    panjang_train = int(train_size*len(data))\n",
        "    panjang_val = int(test_size*len(data))\n",
        "    selisih =len(data) - (panjang_train + panjang_val)\n",
        "    # print(len(data), \" - ( \",panjang_train, \" + \", panjang_val,\" ) = \",selisih)\n",
        "    if selisih > 0:\n",
        "        panjang_train +=selisih\n",
        "    \n",
        "    data_train = []\n",
        "    #memilih data train dari data\n",
        "    while len(data_train) != panjang_train:\n",
        "        bantu = np.random.randint(0, (len(data)-1))\n",
        "        if data[bantu] not in data_train:\n",
        "            data_train.append(data[bantu])\n",
        "            del data[bantu]\n",
        "     \n",
        "    #Sisanya Dicopy kedalam Train\n",
        "    data_validasi = data.copy()\n",
        "    del data\n",
        "     \n",
        "    print(\"\\nPanjang train : \",panjang_train)\n",
        "    print(\"Panjang validasi : \",panjang_val,\"\\n\")\n",
        "    return data_train, data_validasi"
      ]
    },
    {
      "cell_type": "code",
      "execution_count": null,
      "metadata": {
        "id": "5EM3xWjiDbbG"
      },
      "outputs": [],
      "source": [
        "#Selanjutnya pindahkan ke folder terpisah\n",
        "\n",
        "#Membuat fungsi untuk membuat folder penyimpanan dan memindahkan data yang telah dipisahkan kedalam folder tersebut\n",
        "def move(data_train, data_val, data_path, train_path, val_path):\n",
        "    \"\"\"Fungsi ini untuk membuat folder penyimpanan dan \n",
        "    memasukan data yang telah dipisahkan dengan folder tersebut\"\"\"\n",
        "    \n",
        "    #Memeriksa apakan folder sudah ada, jika belum maka tambahkan folder\n",
        "    if not (os.path.exists(train_path) and os.path.exists(val_path)):\n",
        "        os.makedirs(train_path)\n",
        "        os.makedirs(val_path)\n",
        "    else:\n",
        "        print('Folder Sudah ada')\n",
        "    \n",
        "    #memindahkan ke folder terpisah\n",
        "    for i in range(len(data_train)):\n",
        "        shutil.move(os.path.join(data_path, data_train[i]), os.path.join(train_path, data_train[i]))\n",
        "    \n",
        "    #memindahkan ke folder terpisah\n",
        "    for i in range(len(data_val)):\n",
        "        shutil.move(os.path.join(data_path, data_val[i]), os.path.join(val_path, data_val[i]))"
      ]
    },
    {
      "cell_type": "code",
      "execution_count": null,
      "metadata": {
        "id": "7xpm_ryLDeSu"
      },
      "outputs": [],
      "source": [
        "def split_and_move_data(path='', random_seed=42, train_size=0.8):\n",
        "    path_dict = {}\n",
        "    for i in os.listdir(path):\n",
        "        path_dict[i] = os.listdir(os.path.join(path, i))\n",
        "        print(i, \"=> sebanyak \", len(os.listdir(os.path.join(path, i))))\n",
        "      \n",
        "    dict_train_test = {}\n",
        "    for cls in path_dict.keys():\n",
        "        dict_train_test[cls] = split_data(path_dict[cls],random_seed=random_seed,train_size=train_size)\n",
        "     \n",
        "    for cls in path_dict.keys():\n",
        "        move(\n",
        "           data_train =  dict_train_test[cls][0],\n",
        "           data_val = dict_train_test[cls][1],\n",
        "           data_path = os.path.join(path, cls),\n",
        "           train_path = os.path.join(os.path.join(path,'train'),cls),\n",
        "           val_path = os.path.join(os.path.join(path,'test'),cls)\n",
        "        )\n",
        "        shutil.rmtree(os.path.join(path, cls))\n",
        "    len_train = 0\n",
        "    len_test = 0\n",
        "    train = os.path.join(path,'train')\n",
        "    test = os.path.join(path,'test')\n",
        "    for cls in os.listdir(train):\n",
        "        len_train += len(os.listdir((os.path.join(train,cls))))\n",
        "        len_test += len(os.listdir((os.path.join(test,cls))))\n",
        "         \n",
        "     \n",
        "    print('train : {} data'.format(len_train))\n",
        "    print('test  : {} data'.format(len_test))      "
      ]
    },
    {
      "cell_type": "code",
      "execution_count": null,
      "metadata": {
        "colab": {
          "base_uri": "https://localhost:8080/"
        },
        "id": "P22zNaqhDipm",
        "outputId": "92cbb1d8-e1a7-40d6-a1bb-aca5bcf6d642"
      },
      "outputs": [
        {
          "output_type": "stream",
          "name": "stdout",
          "text": [
            "bika_ambon => sebanyak  270\n",
            "putu_ayu => sebanyak  266\n",
            "cucur => sebanyak  240\n",
            "klepon => sebanyak  234\n",
            "kue_sus => sebanyak  198\n",
            "kue_pukis => sebanyak  304\n",
            "kue_cubit => sebanyak  238\n",
            "kue_lupis => sebanyak  317\n",
            "dadar_gulung => sebanyak  309\n",
            "onde_onde => sebanyak  287\n",
            "data_selain_kue => sebanyak  264\n",
            "\n",
            "Panjang train :  230\n",
            "Panjang validasi :  40 \n",
            "\n",
            "\n",
            "Panjang train :  227\n",
            "Panjang validasi :  39 \n",
            "\n",
            "\n",
            "Panjang train :  204\n",
            "Panjang validasi :  36 \n",
            "\n",
            "\n",
            "Panjang train :  199\n",
            "Panjang validasi :  35 \n",
            "\n",
            "\n",
            "Panjang train :  169\n",
            "Panjang validasi :  29 \n",
            "\n",
            "\n",
            "Panjang train :  259\n",
            "Panjang validasi :  45 \n",
            "\n",
            "\n",
            "Panjang train :  203\n",
            "Panjang validasi :  35 \n",
            "\n",
            "\n",
            "Panjang train :  270\n",
            "Panjang validasi :  47 \n",
            "\n",
            "\n",
            "Panjang train :  263\n",
            "Panjang validasi :  46 \n",
            "\n",
            "\n",
            "Panjang train :  244\n",
            "Panjang validasi :  43 \n",
            "\n",
            "\n",
            "Panjang train :  225\n",
            "Panjang validasi :  39 \n",
            "\n",
            "train : 2493 data\n",
            "test  : 434 data\n"
          ]
        }
      ],
      "source": [
        "split_and_move_data('/content/content/dataset', train_size=0.85)"
      ]
    },
    {
      "cell_type": "markdown",
      "metadata": {
        "id": "UC6Jms_HEZR4"
      },
      "source": [
        "# Data Generator"
      ]
    },
    {
      "cell_type": "code",
      "execution_count": null,
      "metadata": {
        "id": "DL9QbPI8EcEH"
      },
      "outputs": [],
      "source": [
        "train_dir = '/content/content/dataset/train'\n",
        "test_dir = '/content/content/dataset/test'\n",
        "\n",
        "train_datagen = ImageDataGenerator(\n",
        "      rescale=1./255,\n",
        "      rotation_range=45,\n",
        "      width_shift_range=0.2,\n",
        "      height_shift_range=0.2,\n",
        "      shear_range=0.2,\n",
        "      zoom_range=0.2,\n",
        "      brightness_range=[0.6, 1.5],\n",
        "      horizontal_flip=True,\n",
        "      fill_mode='nearest')\n",
        "\n",
        "test_datagen = ImageDataGenerator(\n",
        "                  rescale=1./255\n",
        ")"
      ]
    },
    {
      "cell_type": "code",
      "execution_count": null,
      "metadata": {
        "colab": {
          "base_uri": "https://localhost:8080/"
        },
        "id": "HTBHpQ3zFS6u",
        "outputId": "2f07d380-82ae-4025-eefa-47b5c56c3364"
      },
      "outputs": [
        {
          "output_type": "stream",
          "name": "stdout",
          "text": [
            "Found 2493 images belonging to 11 classes.\n",
            "Found 434 images belonging to 11 classes.\n"
          ]
        }
      ],
      "source": [
        "train_generator = train_datagen.flow_from_directory(\n",
        "    directory=train_dir,\n",
        "    target_size=(224, 224),\n",
        "    batch_size=128,\n",
        "    class_mode='categorical',\n",
        "    shuffle=True\n",
        ")\n",
        "\n",
        "\n",
        "test_generator = test_datagen.flow_from_directory(\n",
        "    directory=test_dir,\n",
        "    target_size=(224, 224),\n",
        "    batch_size=434,\n",
        "    class_mode='categorical'\n",
        ")"
      ]
    },
    {
      "cell_type": "code",
      "source": [
        "from tensorflow.keras.models import load_model\n",
        "from tensorflow.keras import Input, Model, Sequential\n",
        "from tensorflow.keras.regularizers import l2, l1_l2\n",
        "from tensorflow.keras.optimizers import Adam\n",
        "from tensorflow.keras.layers import Dense, Dropout, LeakyReLU, BatchNormalization, GlobalAveragePooling2D\n",
        "from tensorflow.keras.callbacks import ModelCheckpoint, EarlyStopping, ReduceLROnPlateau"
      ],
      "metadata": {
        "id": "Bi8mlE-YqClR"
      },
      "execution_count": null,
      "outputs": []
    },
    {
      "cell_type": "code",
      "execution_count": null,
      "metadata": {
        "colab": {
          "base_uri": "https://localhost:8080/"
        },
        "id": "dk6eFSLS6fgI",
        "outputId": "8f4ac256-2498-437f-c07e-701cac3c98d9"
      },
      "outputs": [
        {
          "output_type": "stream",
          "name": "stdout",
          "text": [
            "Model: \"model\"\n",
            "_________________________________________________________________\n",
            " Layer (type)                Output Shape              Param #   \n",
            "=================================================================\n",
            " input_1 (InputLayer)        [(None, 224, 224, 3)]     0         \n",
            "                                                                 \n",
            " conv1 (Conv2D)              (None, 112, 112, 32)      864       \n",
            "                                                                 \n",
            " conv1_bn (BatchNormalizatio  (None, 112, 112, 32)     128       \n",
            " n)                                                              \n",
            "                                                                 \n",
            " conv1_relu (ReLU)           (None, 112, 112, 32)      0         \n",
            "                                                                 \n",
            " conv_dw_1 (DepthwiseConv2D)  (None, 112, 112, 32)     288       \n",
            "                                                                 \n",
            " conv_dw_1_bn (BatchNormaliz  (None, 112, 112, 32)     128       \n",
            " ation)                                                          \n",
            "                                                                 \n",
            " conv_dw_1_relu (ReLU)       (None, 112, 112, 32)      0         \n",
            "                                                                 \n",
            " conv_pw_1 (Conv2D)          (None, 112, 112, 64)      2048      \n",
            "                                                                 \n",
            " conv_pw_1_bn (BatchNormaliz  (None, 112, 112, 64)     256       \n",
            " ation)                                                          \n",
            "                                                                 \n",
            " conv_pw_1_relu (ReLU)       (None, 112, 112, 64)      0         \n",
            "                                                                 \n",
            " conv_pad_2 (ZeroPadding2D)  (None, 113, 113, 64)      0         \n",
            "                                                                 \n",
            " conv_dw_2 (DepthwiseConv2D)  (None, 56, 56, 64)       576       \n",
            "                                                                 \n",
            " conv_dw_2_bn (BatchNormaliz  (None, 56, 56, 64)       256       \n",
            " ation)                                                          \n",
            "                                                                 \n",
            " conv_dw_2_relu (ReLU)       (None, 56, 56, 64)        0         \n",
            "                                                                 \n",
            " conv_pw_2 (Conv2D)          (None, 56, 56, 128)       8192      \n",
            "                                                                 \n",
            " conv_pw_2_bn (BatchNormaliz  (None, 56, 56, 128)      512       \n",
            " ation)                                                          \n",
            "                                                                 \n",
            " conv_pw_2_relu (ReLU)       (None, 56, 56, 128)       0         \n",
            "                                                                 \n",
            " conv_dw_3 (DepthwiseConv2D)  (None, 56, 56, 128)      1152      \n",
            "                                                                 \n",
            " conv_dw_3_bn (BatchNormaliz  (None, 56, 56, 128)      512       \n",
            " ation)                                                          \n",
            "                                                                 \n",
            " conv_dw_3_relu (ReLU)       (None, 56, 56, 128)       0         \n",
            "                                                                 \n",
            " conv_pw_3 (Conv2D)          (None, 56, 56, 128)       16384     \n",
            "                                                                 \n",
            " conv_pw_3_bn (BatchNormaliz  (None, 56, 56, 128)      512       \n",
            " ation)                                                          \n",
            "                                                                 \n",
            " conv_pw_3_relu (ReLU)       (None, 56, 56, 128)       0         \n",
            "                                                                 \n",
            " conv_pad_4 (ZeroPadding2D)  (None, 57, 57, 128)       0         \n",
            "                                                                 \n",
            " conv_dw_4 (DepthwiseConv2D)  (None, 28, 28, 128)      1152      \n",
            "                                                                 \n",
            " conv_dw_4_bn (BatchNormaliz  (None, 28, 28, 128)      512       \n",
            " ation)                                                          \n",
            "                                                                 \n",
            " conv_dw_4_relu (ReLU)       (None, 28, 28, 128)       0         \n",
            "                                                                 \n",
            " conv_pw_4 (Conv2D)          (None, 28, 28, 256)       32768     \n",
            "                                                                 \n",
            " conv_pw_4_bn (BatchNormaliz  (None, 28, 28, 256)      1024      \n",
            " ation)                                                          \n",
            "                                                                 \n",
            " conv_pw_4_relu (ReLU)       (None, 28, 28, 256)       0         \n",
            "                                                                 \n",
            " conv_dw_5 (DepthwiseConv2D)  (None, 28, 28, 256)      2304      \n",
            "                                                                 \n",
            " conv_dw_5_bn (BatchNormaliz  (None, 28, 28, 256)      1024      \n",
            " ation)                                                          \n",
            "                                                                 \n",
            " conv_dw_5_relu (ReLU)       (None, 28, 28, 256)       0         \n",
            "                                                                 \n",
            " conv_pw_5 (Conv2D)          (None, 28, 28, 256)       65536     \n",
            "                                                                 \n",
            " conv_pw_5_bn (BatchNormaliz  (None, 28, 28, 256)      1024      \n",
            " ation)                                                          \n",
            "                                                                 \n",
            " conv_pw_5_relu (ReLU)       (None, 28, 28, 256)       0         \n",
            "                                                                 \n",
            " conv_pad_6 (ZeroPadding2D)  (None, 29, 29, 256)       0         \n",
            "                                                                 \n",
            " conv_dw_6 (DepthwiseConv2D)  (None, 14, 14, 256)      2304      \n",
            "                                                                 \n",
            " conv_dw_6_bn (BatchNormaliz  (None, 14, 14, 256)      1024      \n",
            " ation)                                                          \n",
            "                                                                 \n",
            " conv_dw_6_relu (ReLU)       (None, 14, 14, 256)       0         \n",
            "                                                                 \n",
            " conv_pw_6 (Conv2D)          (None, 14, 14, 512)       131072    \n",
            "                                                                 \n",
            " conv_pw_6_bn (BatchNormaliz  (None, 14, 14, 512)      2048      \n",
            " ation)                                                          \n",
            "                                                                 \n",
            " conv_pw_6_relu (ReLU)       (None, 14, 14, 512)       0         \n",
            "                                                                 \n",
            " conv_dw_7 (DepthwiseConv2D)  (None, 14, 14, 512)      4608      \n",
            "                                                                 \n",
            " conv_dw_7_bn (BatchNormaliz  (None, 14, 14, 512)      2048      \n",
            " ation)                                                          \n",
            "                                                                 \n",
            " conv_dw_7_relu (ReLU)       (None, 14, 14, 512)       0         \n",
            "                                                                 \n",
            " conv_pw_7 (Conv2D)          (None, 14, 14, 512)       262144    \n",
            "                                                                 \n",
            " conv_pw_7_bn (BatchNormaliz  (None, 14, 14, 512)      2048      \n",
            " ation)                                                          \n",
            "                                                                 \n",
            " conv_pw_7_relu (ReLU)       (None, 14, 14, 512)       0         \n",
            "                                                                 \n",
            " conv_dw_8 (DepthwiseConv2D)  (None, 14, 14, 512)      4608      \n",
            "                                                                 \n",
            " conv_dw_8_bn (BatchNormaliz  (None, 14, 14, 512)      2048      \n",
            " ation)                                                          \n",
            "                                                                 \n",
            " conv_dw_8_relu (ReLU)       (None, 14, 14, 512)       0         \n",
            "                                                                 \n",
            " conv_pw_8 (Conv2D)          (None, 14, 14, 512)       262144    \n",
            "                                                                 \n",
            " conv_pw_8_bn (BatchNormaliz  (None, 14, 14, 512)      2048      \n",
            " ation)                                                          \n",
            "                                                                 \n",
            " conv_pw_8_relu (ReLU)       (None, 14, 14, 512)       0         \n",
            "                                                                 \n",
            " conv_dw_9 (DepthwiseConv2D)  (None, 14, 14, 512)      4608      \n",
            "                                                                 \n",
            " conv_dw_9_bn (BatchNormaliz  (None, 14, 14, 512)      2048      \n",
            " ation)                                                          \n",
            "                                                                 \n",
            " conv_dw_9_relu (ReLU)       (None, 14, 14, 512)       0         \n",
            "                                                                 \n",
            " conv_pw_9 (Conv2D)          (None, 14, 14, 512)       262144    \n",
            "                                                                 \n",
            " conv_pw_9_bn (BatchNormaliz  (None, 14, 14, 512)      2048      \n",
            " ation)                                                          \n",
            "                                                                 \n",
            " conv_pw_9_relu (ReLU)       (None, 14, 14, 512)       0         \n",
            "                                                                 \n",
            " conv_dw_10 (DepthwiseConv2D  (None, 14, 14, 512)      4608      \n",
            " )                                                               \n",
            "                                                                 \n",
            " conv_dw_10_bn (BatchNormali  (None, 14, 14, 512)      2048      \n",
            " zation)                                                         \n",
            "                                                                 \n",
            " conv_dw_10_relu (ReLU)      (None, 14, 14, 512)       0         \n",
            "                                                                 \n",
            " conv_pw_10 (Conv2D)         (None, 14, 14, 512)       262144    \n",
            "                                                                 \n",
            " conv_pw_10_bn (BatchNormali  (None, 14, 14, 512)      2048      \n",
            " zation)                                                         \n",
            "                                                                 \n",
            " conv_pw_10_relu (ReLU)      (None, 14, 14, 512)       0         \n",
            "                                                                 \n",
            " conv_dw_11 (DepthwiseConv2D  (None, 14, 14, 512)      4608      \n",
            " )                                                               \n",
            "                                                                 \n",
            " conv_dw_11_bn (BatchNormali  (None, 14, 14, 512)      2048      \n",
            " zation)                                                         \n",
            "                                                                 \n",
            " conv_dw_11_relu (ReLU)      (None, 14, 14, 512)       0         \n",
            "                                                                 \n",
            " conv_pw_11 (Conv2D)         (None, 14, 14, 512)       262144    \n",
            "                                                                 \n",
            " conv_pw_11_bn (BatchNormali  (None, 14, 14, 512)      2048      \n",
            " zation)                                                         \n",
            "                                                                 \n",
            " conv_pw_11_relu (ReLU)      (None, 14, 14, 512)       0         \n",
            "                                                                 \n",
            " conv_pad_12 (ZeroPadding2D)  (None, 15, 15, 512)      0         \n",
            "                                                                 \n",
            " conv_dw_12 (DepthwiseConv2D  (None, 7, 7, 512)        4608      \n",
            " )                                                               \n",
            "                                                                 \n",
            " conv_dw_12_bn (BatchNormali  (None, 7, 7, 512)        2048      \n",
            " zation)                                                         \n",
            "                                                                 \n",
            " conv_dw_12_relu (ReLU)      (None, 7, 7, 512)         0         \n",
            "                                                                 \n",
            " conv_pw_12 (Conv2D)         (None, 7, 7, 1024)        524288    \n",
            "                                                                 \n",
            " conv_pw_12_bn (BatchNormali  (None, 7, 7, 1024)       4096      \n",
            " zation)                                                         \n",
            "                                                                 \n",
            " conv_pw_12_relu (ReLU)      (None, 7, 7, 1024)        0         \n",
            "                                                                 \n",
            " conv_dw_13 (DepthwiseConv2D  (None, 7, 7, 1024)       9216      \n",
            " )                                                               \n",
            "                                                                 \n",
            " conv_dw_13_bn (BatchNormali  (None, 7, 7, 1024)       4096      \n",
            " zation)                                                         \n",
            "                                                                 \n",
            " conv_dw_13_relu (ReLU)      (None, 7, 7, 1024)        0         \n",
            "                                                                 \n",
            " conv_pw_13 (Conv2D)         (None, 7, 7, 1024)        1048576   \n",
            "                                                                 \n",
            " conv_pw_13_bn (BatchNormali  (None, 7, 7, 1024)       4096      \n",
            " zation)                                                         \n",
            "                                                                 \n",
            " conv_pw_13_relu (ReLU)      (None, 7, 7, 1024)        0         \n",
            "                                                                 \n",
            " flatten (Flatten)           (None, 50176)             0         \n",
            "                                                                 \n",
            " dense (Dense)               (None, 512)               25690624  \n",
            "                                                                 \n",
            " dropout (Dropout)           (None, 512)               0         \n",
            "                                                                 \n",
            " dense_1 (Dense)             (None, 11)                5643      \n",
            "                                                                 \n",
            "=================================================================\n",
            "Total params: 28,925,131\n",
            "Trainable params: 25,696,267\n",
            "Non-trainable params: 3,228,864\n",
            "_________________________________________________________________\n"
          ]
        }
      ],
      "source": [
        "model = load_model('/content/drive/MyDrive/Orbit_final_project/MODEL/model_projek_mobileNetPart3')\n",
        "model.summary()"
      ]
    },
    {
      "cell_type": "code",
      "source": [
        "inputs = model.input\n",
        "feature_extraction = model.layers[-5].output\n",
        "gap = GlobalAveragePooling2D()(feature_extraction)\n",
        "feature_extractor = Model(inputs, gap)\n",
        "feature_extractor.summary()"
      ],
      "metadata": {
        "colab": {
          "base_uri": "https://localhost:8080/"
        },
        "id": "l1KJaEkr8Xy6",
        "outputId": "273670de-a344-4ed1-cee6-4a2fa2faf29d"
      },
      "execution_count": null,
      "outputs": [
        {
          "output_type": "stream",
          "name": "stdout",
          "text": [
            "Model: \"model_4\"\n",
            "_________________________________________________________________\n",
            " Layer (type)                Output Shape              Param #   \n",
            "=================================================================\n",
            " input_1 (InputLayer)        [(None, 224, 224, 3)]     0         \n",
            "                                                                 \n",
            " conv1 (Conv2D)              (None, 112, 112, 32)      864       \n",
            "                                                                 \n",
            " conv1_bn (BatchNormalizatio  (None, 112, 112, 32)     128       \n",
            " n)                                                              \n",
            "                                                                 \n",
            " conv1_relu (ReLU)           (None, 112, 112, 32)      0         \n",
            "                                                                 \n",
            " conv_dw_1 (DepthwiseConv2D)  (None, 112, 112, 32)     288       \n",
            "                                                                 \n",
            " conv_dw_1_bn (BatchNormaliz  (None, 112, 112, 32)     128       \n",
            " ation)                                                          \n",
            "                                                                 \n",
            " conv_dw_1_relu (ReLU)       (None, 112, 112, 32)      0         \n",
            "                                                                 \n",
            " conv_pw_1 (Conv2D)          (None, 112, 112, 64)      2048      \n",
            "                                                                 \n",
            " conv_pw_1_bn (BatchNormaliz  (None, 112, 112, 64)     256       \n",
            " ation)                                                          \n",
            "                                                                 \n",
            " conv_pw_1_relu (ReLU)       (None, 112, 112, 64)      0         \n",
            "                                                                 \n",
            " conv_pad_2 (ZeroPadding2D)  (None, 113, 113, 64)      0         \n",
            "                                                                 \n",
            " conv_dw_2 (DepthwiseConv2D)  (None, 56, 56, 64)       576       \n",
            "                                                                 \n",
            " conv_dw_2_bn (BatchNormaliz  (None, 56, 56, 64)       256       \n",
            " ation)                                                          \n",
            "                                                                 \n",
            " conv_dw_2_relu (ReLU)       (None, 56, 56, 64)        0         \n",
            "                                                                 \n",
            " conv_pw_2 (Conv2D)          (None, 56, 56, 128)       8192      \n",
            "                                                                 \n",
            " conv_pw_2_bn (BatchNormaliz  (None, 56, 56, 128)      512       \n",
            " ation)                                                          \n",
            "                                                                 \n",
            " conv_pw_2_relu (ReLU)       (None, 56, 56, 128)       0         \n",
            "                                                                 \n",
            " conv_dw_3 (DepthwiseConv2D)  (None, 56, 56, 128)      1152      \n",
            "                                                                 \n",
            " conv_dw_3_bn (BatchNormaliz  (None, 56, 56, 128)      512       \n",
            " ation)                                                          \n",
            "                                                                 \n",
            " conv_dw_3_relu (ReLU)       (None, 56, 56, 128)       0         \n",
            "                                                                 \n",
            " conv_pw_3 (Conv2D)          (None, 56, 56, 128)       16384     \n",
            "                                                                 \n",
            " conv_pw_3_bn (BatchNormaliz  (None, 56, 56, 128)      512       \n",
            " ation)                                                          \n",
            "                                                                 \n",
            " conv_pw_3_relu (ReLU)       (None, 56, 56, 128)       0         \n",
            "                                                                 \n",
            " conv_pad_4 (ZeroPadding2D)  (None, 57, 57, 128)       0         \n",
            "                                                                 \n",
            " conv_dw_4 (DepthwiseConv2D)  (None, 28, 28, 128)      1152      \n",
            "                                                                 \n",
            " conv_dw_4_bn (BatchNormaliz  (None, 28, 28, 128)      512       \n",
            " ation)                                                          \n",
            "                                                                 \n",
            " conv_dw_4_relu (ReLU)       (None, 28, 28, 128)       0         \n",
            "                                                                 \n",
            " conv_pw_4 (Conv2D)          (None, 28, 28, 256)       32768     \n",
            "                                                                 \n",
            " conv_pw_4_bn (BatchNormaliz  (None, 28, 28, 256)      1024      \n",
            " ation)                                                          \n",
            "                                                                 \n",
            " conv_pw_4_relu (ReLU)       (None, 28, 28, 256)       0         \n",
            "                                                                 \n",
            " conv_dw_5 (DepthwiseConv2D)  (None, 28, 28, 256)      2304      \n",
            "                                                                 \n",
            " conv_dw_5_bn (BatchNormaliz  (None, 28, 28, 256)      1024      \n",
            " ation)                                                          \n",
            "                                                                 \n",
            " conv_dw_5_relu (ReLU)       (None, 28, 28, 256)       0         \n",
            "                                                                 \n",
            " conv_pw_5 (Conv2D)          (None, 28, 28, 256)       65536     \n",
            "                                                                 \n",
            " conv_pw_5_bn (BatchNormaliz  (None, 28, 28, 256)      1024      \n",
            " ation)                                                          \n",
            "                                                                 \n",
            " conv_pw_5_relu (ReLU)       (None, 28, 28, 256)       0         \n",
            "                                                                 \n",
            " conv_pad_6 (ZeroPadding2D)  (None, 29, 29, 256)       0         \n",
            "                                                                 \n",
            " conv_dw_6 (DepthwiseConv2D)  (None, 14, 14, 256)      2304      \n",
            "                                                                 \n",
            " conv_dw_6_bn (BatchNormaliz  (None, 14, 14, 256)      1024      \n",
            " ation)                                                          \n",
            "                                                                 \n",
            " conv_dw_6_relu (ReLU)       (None, 14, 14, 256)       0         \n",
            "                                                                 \n",
            " conv_pw_6 (Conv2D)          (None, 14, 14, 512)       131072    \n",
            "                                                                 \n",
            " conv_pw_6_bn (BatchNormaliz  (None, 14, 14, 512)      2048      \n",
            " ation)                                                          \n",
            "                                                                 \n",
            " conv_pw_6_relu (ReLU)       (None, 14, 14, 512)       0         \n",
            "                                                                 \n",
            " conv_dw_7 (DepthwiseConv2D)  (None, 14, 14, 512)      4608      \n",
            "                                                                 \n",
            " conv_dw_7_bn (BatchNormaliz  (None, 14, 14, 512)      2048      \n",
            " ation)                                                          \n",
            "                                                                 \n",
            " conv_dw_7_relu (ReLU)       (None, 14, 14, 512)       0         \n",
            "                                                                 \n",
            " conv_pw_7 (Conv2D)          (None, 14, 14, 512)       262144    \n",
            "                                                                 \n",
            " conv_pw_7_bn (BatchNormaliz  (None, 14, 14, 512)      2048      \n",
            " ation)                                                          \n",
            "                                                                 \n",
            " conv_pw_7_relu (ReLU)       (None, 14, 14, 512)       0         \n",
            "                                                                 \n",
            " conv_dw_8 (DepthwiseConv2D)  (None, 14, 14, 512)      4608      \n",
            "                                                                 \n",
            " conv_dw_8_bn (BatchNormaliz  (None, 14, 14, 512)      2048      \n",
            " ation)                                                          \n",
            "                                                                 \n",
            " conv_dw_8_relu (ReLU)       (None, 14, 14, 512)       0         \n",
            "                                                                 \n",
            " conv_pw_8 (Conv2D)          (None, 14, 14, 512)       262144    \n",
            "                                                                 \n",
            " conv_pw_8_bn (BatchNormaliz  (None, 14, 14, 512)      2048      \n",
            " ation)                                                          \n",
            "                                                                 \n",
            " conv_pw_8_relu (ReLU)       (None, 14, 14, 512)       0         \n",
            "                                                                 \n",
            " conv_dw_9 (DepthwiseConv2D)  (None, 14, 14, 512)      4608      \n",
            "                                                                 \n",
            " conv_dw_9_bn (BatchNormaliz  (None, 14, 14, 512)      2048      \n",
            " ation)                                                          \n",
            "                                                                 \n",
            " conv_dw_9_relu (ReLU)       (None, 14, 14, 512)       0         \n",
            "                                                                 \n",
            " conv_pw_9 (Conv2D)          (None, 14, 14, 512)       262144    \n",
            "                                                                 \n",
            " conv_pw_9_bn (BatchNormaliz  (None, 14, 14, 512)      2048      \n",
            " ation)                                                          \n",
            "                                                                 \n",
            " conv_pw_9_relu (ReLU)       (None, 14, 14, 512)       0         \n",
            "                                                                 \n",
            " conv_dw_10 (DepthwiseConv2D  (None, 14, 14, 512)      4608      \n",
            " )                                                               \n",
            "                                                                 \n",
            " conv_dw_10_bn (BatchNormali  (None, 14, 14, 512)      2048      \n",
            " zation)                                                         \n",
            "                                                                 \n",
            " conv_dw_10_relu (ReLU)      (None, 14, 14, 512)       0         \n",
            "                                                                 \n",
            " conv_pw_10 (Conv2D)         (None, 14, 14, 512)       262144    \n",
            "                                                                 \n",
            " conv_pw_10_bn (BatchNormali  (None, 14, 14, 512)      2048      \n",
            " zation)                                                         \n",
            "                                                                 \n",
            " conv_pw_10_relu (ReLU)      (None, 14, 14, 512)       0         \n",
            "                                                                 \n",
            " conv_dw_11 (DepthwiseConv2D  (None, 14, 14, 512)      4608      \n",
            " )                                                               \n",
            "                                                                 \n",
            " conv_dw_11_bn (BatchNormali  (None, 14, 14, 512)      2048      \n",
            " zation)                                                         \n",
            "                                                                 \n",
            " conv_dw_11_relu (ReLU)      (None, 14, 14, 512)       0         \n",
            "                                                                 \n",
            " conv_pw_11 (Conv2D)         (None, 14, 14, 512)       262144    \n",
            "                                                                 \n",
            " conv_pw_11_bn (BatchNormali  (None, 14, 14, 512)      2048      \n",
            " zation)                                                         \n",
            "                                                                 \n",
            " conv_pw_11_relu (ReLU)      (None, 14, 14, 512)       0         \n",
            "                                                                 \n",
            " conv_pad_12 (ZeroPadding2D)  (None, 15, 15, 512)      0         \n",
            "                                                                 \n",
            " conv_dw_12 (DepthwiseConv2D  (None, 7, 7, 512)        4608      \n",
            " )                                                               \n",
            "                                                                 \n",
            " conv_dw_12_bn (BatchNormali  (None, 7, 7, 512)        2048      \n",
            " zation)                                                         \n",
            "                                                                 \n",
            " conv_dw_12_relu (ReLU)      (None, 7, 7, 512)         0         \n",
            "                                                                 \n",
            " conv_pw_12 (Conv2D)         (None, 7, 7, 1024)        524288    \n",
            "                                                                 \n",
            " conv_pw_12_bn (BatchNormali  (None, 7, 7, 1024)       4096      \n",
            " zation)                                                         \n",
            "                                                                 \n",
            " conv_pw_12_relu (ReLU)      (None, 7, 7, 1024)        0         \n",
            "                                                                 \n",
            " conv_dw_13 (DepthwiseConv2D  (None, 7, 7, 1024)       9216      \n",
            " )                                                               \n",
            "                                                                 \n",
            " conv_dw_13_bn (BatchNormali  (None, 7, 7, 1024)       4096      \n",
            " zation)                                                         \n",
            "                                                                 \n",
            " conv_dw_13_relu (ReLU)      (None, 7, 7, 1024)        0         \n",
            "                                                                 \n",
            " conv_pw_13 (Conv2D)         (None, 7, 7, 1024)        1048576   \n",
            "                                                                 \n",
            " conv_pw_13_bn (BatchNormali  (None, 7, 7, 1024)       4096      \n",
            " zation)                                                         \n",
            "                                                                 \n",
            " conv_pw_13_relu (ReLU)      (None, 7, 7, 1024)        0         \n",
            "                                                                 \n",
            " global_average_pooling2d_4   (None, 1024)             0         \n",
            " (GlobalAveragePooling2D)                                        \n",
            "                                                                 \n",
            "=================================================================\n",
            "Total params: 3,228,864\n",
            "Trainable params: 0\n",
            "Non-trainable params: 3,228,864\n",
            "_________________________________________________________________\n"
          ]
        }
      ]
    },
    {
      "cell_type": "code",
      "source": [
        "newModel = Sequential([\n",
        "        feature_extractor,\n",
        "        Dense(1024, activation=LeakyReLU(0.5), kernel_regularizer=l2(0.001), kernel_initializer='he_normal', name='dense_1'),\n",
        "        Dropout(0.5, name='dropout_1'),\n",
        "        BatchNormalization(),\n",
        "        Dense(1024, activation=LeakyReLU(0.5), kernel_regularizer=l2(0.001), kernel_initializer='he_normal', name='dense_2'),\n",
        "        Dropout(0.5, name='dropout_2'),\n",
        "        BatchNormalization(),\n",
        "        Dense(11, activation='softmax', name='final_output')\n",
        "])\n",
        "newModel.layers[0]._name = 'feature_extractor'\n",
        "newModel.summary()"
      ],
      "metadata": {
        "colab": {
          "base_uri": "https://localhost:8080/"
        },
        "id": "UQO5r7aAxF99",
        "outputId": "9f618141-9bff-42e3-c52b-4ab4e6bf9447"
      },
      "execution_count": null,
      "outputs": [
        {
          "output_type": "stream",
          "name": "stdout",
          "text": [
            "Model: \"sequential_5\"\n",
            "_________________________________________________________________\n",
            " Layer (type)                Output Shape              Param #   \n",
            "=================================================================\n",
            " feature_extractor (Function  (None, 1024)             3228864   \n",
            " al)                                                             \n",
            "                                                                 \n",
            " dense_1 (Dense)             (None, 1024)              1049600   \n",
            "                                                                 \n",
            " dropout_1 (Dropout)         (None, 1024)              0         \n",
            "                                                                 \n",
            " batch_normalization_18 (Bat  (None, 1024)             4096      \n",
            " chNormalization)                                                \n",
            "                                                                 \n",
            " dense_2 (Dense)             (None, 1024)              1049600   \n",
            "                                                                 \n",
            " dropout_2 (Dropout)         (None, 1024)              0         \n",
            "                                                                 \n",
            " batch_normalization_19 (Bat  (None, 1024)             4096      \n",
            " chNormalization)                                                \n",
            "                                                                 \n",
            " final_output (Dense)        (None, 11)                11275     \n",
            "                                                                 \n",
            "=================================================================\n",
            "Total params: 5,347,531\n",
            "Trainable params: 2,114,571\n",
            "Non-trainable params: 3,232,960\n",
            "_________________________________________________________________\n"
          ]
        }
      ]
    },
    {
      "cell_type": "code",
      "execution_count": null,
      "metadata": {
        "id": "QnCy-jnQ7yCB"
      },
      "outputs": [],
      "source": [
        "newModel.layers[0].trainable = False\n",
        "newModel.compile(optimizer=tf.keras.optimizers.Adam(learning_rate=1e-3),\n",
        "              loss='categorical_crossentropy',\n",
        "              metrics=['accuracy'])"
      ]
    },
    {
      "cell_type": "code",
      "execution_count": null,
      "metadata": {
        "id": "kyQrHBgo83cK"
      },
      "outputs": [],
      "source": [
        "def checkpoint(filepath, monitor='val_loss'):\n",
        "    return ModelCheckpoint(filepath=filepath, monitor=monitor, verbose=1, save_best_only=False, save_freq='epoch')"
      ]
    },
    {
      "cell_type": "code",
      "execution_count": null,
      "metadata": {
        "colab": {
          "base_uri": "https://localhost:8080/"
        },
        "id": "0xpfrtKP-siw",
        "outputId": "56723bd4-c581-43d0-bd9a-6c8a58c69d08"
      },
      "outputs": [
        {
          "output_type": "stream",
          "name": "stdout",
          "text": [
            "19 1\n"
          ]
        }
      ],
      "source": [
        "model_checkpoint = checkpoint('/content/drive/MyDrive/Orbit_final_project/bestModel9/checkpoint_{epoch:02d}', monitor='val_accuracy',)\n",
        "learningrate_decay = ReduceLROnPlateau(monitor='val_accuracy', factor=0.5,\n",
        "                                       patience=10, verbose=1, min_lr=1e-20)\n",
        "earlystopping = EarlyStopping(monitor='val_accuracy', patience=20, verbose=1)\n",
        "train_steps_per_epoch = train_generator.n // train_generator.batch_size\n",
        "val_steps = test_generator.n // test_generator.batch_size\n",
        "print(train_steps_per_epoch, val_steps) "
      ]
    },
    {
      "cell_type": "markdown",
      "metadata": {
        "id": "4LtHRr73Iopc"
      },
      "source": [
        "# Transfer Learning"
      ]
    },
    {
      "cell_type": "code",
      "execution_count": 57,
      "metadata": {
        "colab": {
          "base_uri": "https://localhost:8080/"
        },
        "id": "NzLxnKOt_Yvw",
        "outputId": "8840b5cc-b3d6-4f3e-f49b-f46e95c79e11"
      },
      "outputs": [
        {
          "metadata": {
            "tags": null
          },
          "name": "stdout",
          "output_type": "stream",
          "text": [
            "Epoch 1/100\n",
            "19/19 [==============================] - ETA: 0s - loss: 5.2608 - accuracy: 0.6249\n",
            "Epoch 00001: saving model to /content/drive/MyDrive/Orbit_final_project/bestModel9/checkpoint_01\n"
          ]
        },
        {
          "metadata": {
            "tags": null
          },
          "name": "stderr",
          "output_type": "stream",
          "text": [
            "WARNING:absl:Found untraced functions such as leaky_re_lu_20_layer_call_fn, leaky_re_lu_20_layer_call_and_return_conditional_losses, leaky_re_lu_21_layer_call_fn, leaky_re_lu_21_layer_call_and_return_conditional_losses, leaky_re_lu_20_layer_call_fn while saving (showing 5 of 10). These functions will not be directly callable after loading.\n"
          ]
        },
        {
          "metadata": {
            "tags": null
          },
          "name": "stdout",
          "output_type": "stream",
          "text": [
            "INFO:tensorflow:Assets written to: /content/drive/MyDrive/Orbit_final_project/bestModel9/checkpoint_01/assets\n"
          ]
        },
        {
          "metadata": {
            "tags": null
          },
          "name": "stderr",
          "output_type": "stream",
          "text": [
            "INFO:tensorflow:Assets written to: /content/drive/MyDrive/Orbit_final_project/bestModel9/checkpoint_01/assets\n"
          ]
        },
        {
          "metadata": {
            "tags": null
          },
          "name": "stdout",
          "output_type": "stream",
          "text": [
            "19/19 [==============================] - 245s 13s/step - loss: 5.2608 - accuracy: 0.6249 - val_loss: 5.0684 - val_accuracy: 0.7811 - lr: 0.0010\n",
            "Epoch 2/100\n",
            "19/19 [==============================] - ETA: 0s - loss: 4.4509 - accuracy: 0.8397\n",
            "Epoch 00002: saving model to /content/drive/MyDrive/Orbit_final_project/bestModel9/checkpoint_02\n"
          ]
        },
        {
          "metadata": {
            "tags": null
          },
          "name": "stderr",
          "output_type": "stream",
          "text": [
            "WARNING:absl:Found untraced functions such as leaky_re_lu_20_layer_call_fn, leaky_re_lu_20_layer_call_and_return_conditional_losses, leaky_re_lu_21_layer_call_fn, leaky_re_lu_21_layer_call_and_return_conditional_losses, leaky_re_lu_20_layer_call_fn while saving (showing 5 of 10). These functions will not be directly callable after loading.\n"
          ]
        },
        {
          "metadata": {
            "tags": null
          },
          "name": "stdout",
          "output_type": "stream",
          "text": [
            "INFO:tensorflow:Assets written to: /content/drive/MyDrive/Orbit_final_project/bestModel9/checkpoint_02/assets\n"
          ]
        },
        {
          "metadata": {
            "tags": null
          },
          "name": "stderr",
          "output_type": "stream",
          "text": [
            "INFO:tensorflow:Assets written to: /content/drive/MyDrive/Orbit_final_project/bestModel9/checkpoint_02/assets\n"
          ]
        },
        {
          "metadata": {
            "tags": null
          },
          "name": "stdout",
          "output_type": "stream",
          "text": [
            "19/19 [==============================] - 213s 11s/step - loss: 4.4509 - accuracy: 0.8397 - val_loss: 4.4188 - val_accuracy: 0.8641 - lr: 0.0010\n",
            "Epoch 3/100\n",
            "19/19 [==============================] - ETA: 0s - loss: 4.1959 - accuracy: 0.8647\n",
            "Epoch 00003: saving model to /content/drive/MyDrive/Orbit_final_project/bestModel9/checkpoint_03\n"
          ]
        },
        {
          "metadata": {
            "tags": null
          },
          "name": "stderr",
          "output_type": "stream",
          "text": [
            "WARNING:absl:Found untraced functions such as leaky_re_lu_20_layer_call_fn, leaky_re_lu_20_layer_call_and_return_conditional_losses, leaky_re_lu_21_layer_call_fn, leaky_re_lu_21_layer_call_and_return_conditional_losses, leaky_re_lu_20_layer_call_fn while saving (showing 5 of 10). These functions will not be directly callable after loading.\n"
          ]
        },
        {
          "metadata": {
            "tags": null
          },
          "name": "stdout",
          "output_type": "stream",
          "text": [
            "INFO:tensorflow:Assets written to: /content/drive/MyDrive/Orbit_final_project/bestModel9/checkpoint_03/assets\n"
          ]
        },
        {
          "metadata": {
            "tags": null
          },
          "name": "stderr",
          "output_type": "stream",
          "text": [
            "INFO:tensorflow:Assets written to: /content/drive/MyDrive/Orbit_final_project/bestModel9/checkpoint_03/assets\n"
          ]
        },
        {
          "metadata": {
            "tags": null
          },
          "name": "stdout",
          "output_type": "stream",
          "text": [
            "19/19 [==============================] - 213s 11s/step - loss: 4.1959 - accuracy: 0.8647 - val_loss: 4.1593 - val_accuracy: 0.8779 - lr: 0.0010\n",
            "Epoch 4/100\n",
            "19/19 [==============================] - ETA: 0s - loss: 3.9400 - accuracy: 0.8888\n",
            "Epoch 00004: saving model to /content/drive/MyDrive/Orbit_final_project/bestModel9/checkpoint_04\n"
          ]
        },
        {
          "metadata": {
            "tags": null
          },
          "name": "stderr",
          "output_type": "stream",
          "text": [
            "WARNING:absl:Found untraced functions such as leaky_re_lu_20_layer_call_fn, leaky_re_lu_20_layer_call_and_return_conditional_losses, leaky_re_lu_21_layer_call_fn, leaky_re_lu_21_layer_call_and_return_conditional_losses, leaky_re_lu_20_layer_call_fn while saving (showing 5 of 10). These functions will not be directly callable after loading.\n"
          ]
        },
        {
          "metadata": {
            "tags": null
          },
          "name": "stdout",
          "output_type": "stream",
          "text": [
            "INFO:tensorflow:Assets written to: /content/drive/MyDrive/Orbit_final_project/bestModel9/checkpoint_04/assets\n"
          ]
        },
        {
          "metadata": {
            "tags": null
          },
          "name": "stderr",
          "output_type": "stream",
          "text": [
            "INFO:tensorflow:Assets written to: /content/drive/MyDrive/Orbit_final_project/bestModel9/checkpoint_04/assets\n"
          ]
        },
        {
          "metadata": {
            "tags": null
          },
          "name": "stdout",
          "output_type": "stream",
          "text": [
            "19/19 [==============================] - 212s 11s/step - loss: 3.9400 - accuracy: 0.8888 - val_loss: 3.9365 - val_accuracy: 0.8825 - lr: 0.0010\n",
            "Epoch 5/100\n",
            "19/19 [==============================] - ETA: 0s - loss: 3.7278 - accuracy: 0.8998\n",
            "Epoch 00005: saving model to /content/drive/MyDrive/Orbit_final_project/bestModel9/checkpoint_05\n"
          ]
        },
        {
          "metadata": {
            "tags": null
          },
          "name": "stderr",
          "output_type": "stream",
          "text": [
            "WARNING:absl:Found untraced functions such as leaky_re_lu_20_layer_call_fn, leaky_re_lu_20_layer_call_and_return_conditional_losses, leaky_re_lu_21_layer_call_fn, leaky_re_lu_21_layer_call_and_return_conditional_losses, leaky_re_lu_20_layer_call_fn while saving (showing 5 of 10). These functions will not be directly callable after loading.\n"
          ]
        },
        {
          "metadata": {
            "tags": null
          },
          "name": "stdout",
          "output_type": "stream",
          "text": [
            "INFO:tensorflow:Assets written to: /content/drive/MyDrive/Orbit_final_project/bestModel9/checkpoint_05/assets\n"
          ]
        },
        {
          "metadata": {
            "tags": null
          },
          "name": "stderr",
          "output_type": "stream",
          "text": [
            "INFO:tensorflow:Assets written to: /content/drive/MyDrive/Orbit_final_project/bestModel9/checkpoint_05/assets\n"
          ]
        },
        {
          "metadata": {
            "tags": null
          },
          "name": "stdout",
          "output_type": "stream",
          "text": [
            "19/19 [==============================] - 211s 11s/step - loss: 3.7278 - accuracy: 0.8998 - val_loss: 3.6358 - val_accuracy: 0.8986 - lr: 0.0010\n",
            "Epoch 6/100\n",
            "19/19 [==============================] - ETA: 0s - loss: 3.5140 - accuracy: 0.9044\n",
            "Epoch 00006: saving model to /content/drive/MyDrive/Orbit_final_project/bestModel9/checkpoint_06\n"
          ]
        },
        {
          "metadata": {
            "tags": null
          },
          "name": "stderr",
          "output_type": "stream",
          "text": [
            "WARNING:absl:Found untraced functions such as leaky_re_lu_20_layer_call_fn, leaky_re_lu_20_layer_call_and_return_conditional_losses, leaky_re_lu_21_layer_call_fn, leaky_re_lu_21_layer_call_and_return_conditional_losses, leaky_re_lu_20_layer_call_fn while saving (showing 5 of 10). These functions will not be directly callable after loading.\n"
          ]
        },
        {
          "metadata": {
            "tags": null
          },
          "name": "stdout",
          "output_type": "stream",
          "text": [
            "INFO:tensorflow:Assets written to: /content/drive/MyDrive/Orbit_final_project/bestModel9/checkpoint_06/assets\n"
          ]
        },
        {
          "metadata": {
            "tags": null
          },
          "name": "stderr",
          "output_type": "stream",
          "text": [
            "INFO:tensorflow:Assets written to: /content/drive/MyDrive/Orbit_final_project/bestModel9/checkpoint_06/assets\n"
          ]
        },
        {
          "metadata": {
            "tags": null
          },
          "name": "stdout",
          "output_type": "stream",
          "text": [
            "19/19 [==============================] - 211s 11s/step - loss: 3.5140 - accuracy: 0.9044 - val_loss: 3.4301 - val_accuracy: 0.9124 - lr: 0.0010\n",
            "Epoch 7/100\n",
            "19/19 [==============================] - ETA: 0s - loss: 3.3097 - accuracy: 0.9146\n",
            "Epoch 00007: saving model to /content/drive/MyDrive/Orbit_final_project/bestModel9/checkpoint_07\n"
          ]
        },
        {
          "metadata": {
            "tags": null
          },
          "name": "stderr",
          "output_type": "stream",
          "text": [
            "WARNING:absl:Found untraced functions such as leaky_re_lu_20_layer_call_fn, leaky_re_lu_20_layer_call_and_return_conditional_losses, leaky_re_lu_21_layer_call_fn, leaky_re_lu_21_layer_call_and_return_conditional_losses, leaky_re_lu_20_layer_call_fn while saving (showing 5 of 10). These functions will not be directly callable after loading.\n"
          ]
        },
        {
          "metadata": {
            "tags": null
          },
          "name": "stdout",
          "output_type": "stream",
          "text": [
            "INFO:tensorflow:Assets written to: /content/drive/MyDrive/Orbit_final_project/bestModel9/checkpoint_07/assets\n"
          ]
        },
        {
          "metadata": {
            "tags": null
          },
          "name": "stderr",
          "output_type": "stream",
          "text": [
            "INFO:tensorflow:Assets written to: /content/drive/MyDrive/Orbit_final_project/bestModel9/checkpoint_07/assets\n"
          ]
        },
        {
          "metadata": {
            "tags": null
          },
          "name": "stdout",
          "output_type": "stream",
          "text": [
            "19/19 [==============================] - 209s 11s/step - loss: 3.3097 - accuracy: 0.9146 - val_loss: 3.3485 - val_accuracy: 0.8940 - lr: 0.0010\n",
            "Epoch 8/100\n",
            "19/19 [==============================] - ETA: 0s - loss: 3.1301 - accuracy: 0.9137\n",
            "Epoch 00008: saving model to /content/drive/MyDrive/Orbit_final_project/bestModel9/checkpoint_08\n"
          ]
        },
        {
          "metadata": {
            "tags": null
          },
          "name": "stderr",
          "output_type": "stream",
          "text": [
            "WARNING:absl:Found untraced functions such as leaky_re_lu_20_layer_call_fn, leaky_re_lu_20_layer_call_and_return_conditional_losses, leaky_re_lu_21_layer_call_fn, leaky_re_lu_21_layer_call_and_return_conditional_losses, leaky_re_lu_20_layer_call_fn while saving (showing 5 of 10). These functions will not be directly callable after loading.\n"
          ]
        },
        {
          "metadata": {
            "tags": null
          },
          "name": "stdout",
          "output_type": "stream",
          "text": [
            "INFO:tensorflow:Assets written to: /content/drive/MyDrive/Orbit_final_project/bestModel9/checkpoint_08/assets\n"
          ]
        },
        {
          "metadata": {
            "tags": null
          },
          "name": "stderr",
          "output_type": "stream",
          "text": [
            "INFO:tensorflow:Assets written to: /content/drive/MyDrive/Orbit_final_project/bestModel9/checkpoint_08/assets\n"
          ]
        },
        {
          "metadata": {
            "tags": null
          },
          "name": "stdout",
          "output_type": "stream",
          "text": [
            "19/19 [==============================] - 210s 11s/step - loss: 3.1301 - accuracy: 0.9137 - val_loss: 3.1931 - val_accuracy: 0.8940 - lr: 0.0010\n",
            "Epoch 9/100\n",
            "19/19 [==============================] - ETA: 0s - loss: 2.9689 - accuracy: 0.9197\n",
            "Epoch 00009: saving model to /content/drive/MyDrive/Orbit_final_project/bestModel9/checkpoint_09\n"
          ]
        },
        {
          "metadata": {
            "tags": null
          },
          "name": "stderr",
          "output_type": "stream",
          "text": [
            "WARNING:absl:Found untraced functions such as leaky_re_lu_20_layer_call_fn, leaky_re_lu_20_layer_call_and_return_conditional_losses, leaky_re_lu_21_layer_call_fn, leaky_re_lu_21_layer_call_and_return_conditional_losses, leaky_re_lu_20_layer_call_fn while saving (showing 5 of 10). These functions will not be directly callable after loading.\n"
          ]
        },
        {
          "metadata": {
            "tags": null
          },
          "name": "stdout",
          "output_type": "stream",
          "text": [
            "INFO:tensorflow:Assets written to: /content/drive/MyDrive/Orbit_final_project/bestModel9/checkpoint_09/assets\n"
          ]
        },
        {
          "metadata": {
            "tags": null
          },
          "name": "stderr",
          "output_type": "stream",
          "text": [
            "INFO:tensorflow:Assets written to: /content/drive/MyDrive/Orbit_final_project/bestModel9/checkpoint_09/assets\n"
          ]
        },
        {
          "metadata": {
            "tags": null
          },
          "name": "stdout",
          "output_type": "stream",
          "text": [
            "19/19 [==============================] - 210s 11s/step - loss: 2.9689 - accuracy: 0.9197 - val_loss: 2.9780 - val_accuracy: 0.9124 - lr: 0.0010\n",
            "Epoch 10/100\n",
            "19/19 [==============================] - ETA: 0s - loss: 2.7951 - accuracy: 0.9273\n",
            "Epoch 00010: saving model to /content/drive/MyDrive/Orbit_final_project/bestModel9/checkpoint_10\n"
          ]
        },
        {
          "metadata": {
            "tags": null
          },
          "name": "stderr",
          "output_type": "stream",
          "text": [
            "WARNING:absl:Found untraced functions such as leaky_re_lu_20_layer_call_fn, leaky_re_lu_20_layer_call_and_return_conditional_losses, leaky_re_lu_21_layer_call_fn, leaky_re_lu_21_layer_call_and_return_conditional_losses, leaky_re_lu_20_layer_call_fn while saving (showing 5 of 10). These functions will not be directly callable after loading.\n"
          ]
        },
        {
          "metadata": {
            "tags": null
          },
          "name": "stdout",
          "output_type": "stream",
          "text": [
            "INFO:tensorflow:Assets written to: /content/drive/MyDrive/Orbit_final_project/bestModel9/checkpoint_10/assets\n"
          ]
        },
        {
          "metadata": {
            "tags": null
          },
          "name": "stderr",
          "output_type": "stream",
          "text": [
            "INFO:tensorflow:Assets written to: /content/drive/MyDrive/Orbit_final_project/bestModel9/checkpoint_10/assets\n"
          ]
        },
        {
          "metadata": {
            "tags": null
          },
          "name": "stdout",
          "output_type": "stream",
          "text": [
            "19/19 [==============================] - 205s 11s/step - loss: 2.7951 - accuracy: 0.9273 - val_loss: 2.8334 - val_accuracy: 0.9217 - lr: 0.0010\n",
            "Epoch 11/100\n",
            "19/19 [==============================] - ETA: 0s - loss: 2.6526 - accuracy: 0.9205\n",
            "Epoch 00011: saving model to /content/drive/MyDrive/Orbit_final_project/bestModel9/checkpoint_11\n"
          ]
        },
        {
          "metadata": {
            "tags": null
          },
          "name": "stderr",
          "output_type": "stream",
          "text": [
            "WARNING:absl:Found untraced functions such as leaky_re_lu_20_layer_call_fn, leaky_re_lu_20_layer_call_and_return_conditional_losses, leaky_re_lu_21_layer_call_fn, leaky_re_lu_21_layer_call_and_return_conditional_losses, leaky_re_lu_20_layer_call_fn while saving (showing 5 of 10). These functions will not be directly callable after loading.\n"
          ]
        },
        {
          "metadata": {
            "tags": null
          },
          "name": "stdout",
          "output_type": "stream",
          "text": [
            "INFO:tensorflow:Assets written to: /content/drive/MyDrive/Orbit_final_project/bestModel9/checkpoint_11/assets\n"
          ]
        },
        {
          "metadata": {
            "tags": null
          },
          "name": "stderr",
          "output_type": "stream",
          "text": [
            "INFO:tensorflow:Assets written to: /content/drive/MyDrive/Orbit_final_project/bestModel9/checkpoint_11/assets\n"
          ]
        },
        {
          "metadata": {
            "tags": null
          },
          "name": "stdout",
          "output_type": "stream",
          "text": [
            "19/19 [==============================] - 204s 11s/step - loss: 2.6526 - accuracy: 0.9205 - val_loss: 2.6570 - val_accuracy: 0.9171 - lr: 0.0010\n",
            "Epoch 12/100\n",
            "19/19 [==============================] - ETA: 0s - loss: 2.5059 - accuracy: 0.9256\n",
            "Epoch 00012: saving model to /content/drive/MyDrive/Orbit_final_project/bestModel9/checkpoint_12\n"
          ]
        },
        {
          "metadata": {
            "tags": null
          },
          "name": "stderr",
          "output_type": "stream",
          "text": [
            "WARNING:absl:Found untraced functions such as leaky_re_lu_20_layer_call_fn, leaky_re_lu_20_layer_call_and_return_conditional_losses, leaky_re_lu_21_layer_call_fn, leaky_re_lu_21_layer_call_and_return_conditional_losses, leaky_re_lu_20_layer_call_fn while saving (showing 5 of 10). These functions will not be directly callable after loading.\n"
          ]
        },
        {
          "metadata": {
            "tags": null
          },
          "name": "stdout",
          "output_type": "stream",
          "text": [
            "INFO:tensorflow:Assets written to: /content/drive/MyDrive/Orbit_final_project/bestModel9/checkpoint_12/assets\n"
          ]
        },
        {
          "metadata": {
            "tags": null
          },
          "name": "stderr",
          "output_type": "stream",
          "text": [
            "INFO:tensorflow:Assets written to: /content/drive/MyDrive/Orbit_final_project/bestModel9/checkpoint_12/assets\n"
          ]
        },
        {
          "metadata": {
            "tags": null
          },
          "name": "stdout",
          "output_type": "stream",
          "text": [
            "19/19 [==============================] - 208s 11s/step - loss: 2.5059 - accuracy: 0.9256 - val_loss: 2.5476 - val_accuracy: 0.9171 - lr: 0.0010\n",
            "Epoch 13/100\n",
            "19/19 [==============================] - ETA: 0s - loss: 2.3591 - accuracy: 0.9383\n",
            "Epoch 00013: saving model to /content/drive/MyDrive/Orbit_final_project/bestModel9/checkpoint_13\n"
          ]
        },
        {
          "metadata": {
            "tags": null
          },
          "name": "stderr",
          "output_type": "stream",
          "text": [
            "WARNING:absl:Found untraced functions such as leaky_re_lu_20_layer_call_fn, leaky_re_lu_20_layer_call_and_return_conditional_losses, leaky_re_lu_21_layer_call_fn, leaky_re_lu_21_layer_call_and_return_conditional_losses, leaky_re_lu_20_layer_call_fn while saving (showing 5 of 10). These functions will not be directly callable after loading.\n"
          ]
        },
        {
          "metadata": {
            "tags": null
          },
          "name": "stdout",
          "output_type": "stream",
          "text": [
            "INFO:tensorflow:Assets written to: /content/drive/MyDrive/Orbit_final_project/bestModel9/checkpoint_13/assets\n"
          ]
        },
        {
          "metadata": {
            "tags": null
          },
          "name": "stderr",
          "output_type": "stream",
          "text": [
            "INFO:tensorflow:Assets written to: /content/drive/MyDrive/Orbit_final_project/bestModel9/checkpoint_13/assets\n"
          ]
        },
        {
          "metadata": {
            "tags": null
          },
          "name": "stdout",
          "output_type": "stream",
          "text": [
            "19/19 [==============================] - 208s 11s/step - loss: 2.3591 - accuracy: 0.9383 - val_loss: 2.4166 - val_accuracy: 0.9147 - lr: 0.0010\n",
            "Epoch 14/100\n",
            "19/19 [==============================] - ETA: 0s - loss: 2.2601 - accuracy: 0.9209\n",
            "Epoch 00014: saving model to /content/drive/MyDrive/Orbit_final_project/bestModel9/checkpoint_14\n"
          ]
        },
        {
          "metadata": {
            "tags": null
          },
          "name": "stderr",
          "output_type": "stream",
          "text": [
            "WARNING:absl:Found untraced functions such as leaky_re_lu_20_layer_call_fn, leaky_re_lu_20_layer_call_and_return_conditional_losses, leaky_re_lu_21_layer_call_fn, leaky_re_lu_21_layer_call_and_return_conditional_losses, leaky_re_lu_20_layer_call_fn while saving (showing 5 of 10). These functions will not be directly callable after loading.\n"
          ]
        },
        {
          "metadata": {
            "tags": null
          },
          "name": "stdout",
          "output_type": "stream",
          "text": [
            "INFO:tensorflow:Assets written to: /content/drive/MyDrive/Orbit_final_project/bestModel9/checkpoint_14/assets\n"
          ]
        },
        {
          "metadata": {
            "tags": null
          },
          "name": "stderr",
          "output_type": "stream",
          "text": [
            "INFO:tensorflow:Assets written to: /content/drive/MyDrive/Orbit_final_project/bestModel9/checkpoint_14/assets\n"
          ]
        },
        {
          "metadata": {
            "tags": null
          },
          "name": "stdout",
          "output_type": "stream",
          "text": [
            "19/19 [==============================] - 207s 11s/step - loss: 2.2601 - accuracy: 0.9209 - val_loss: 2.3454 - val_accuracy: 0.8986 - lr: 0.0010\n",
            "Epoch 15/100\n",
            "19/19 [==============================] - ETA: 0s - loss: 2.1303 - accuracy: 0.9332\n",
            "Epoch 00015: saving model to /content/drive/MyDrive/Orbit_final_project/bestModel9/checkpoint_15\n"
          ]
        },
        {
          "metadata": {
            "tags": null
          },
          "name": "stderr",
          "output_type": "stream",
          "text": [
            "WARNING:absl:Found untraced functions such as leaky_re_lu_20_layer_call_fn, leaky_re_lu_20_layer_call_and_return_conditional_losses, leaky_re_lu_21_layer_call_fn, leaky_re_lu_21_layer_call_and_return_conditional_losses, leaky_re_lu_20_layer_call_fn while saving (showing 5 of 10). These functions will not be directly callable after loading.\n"
          ]
        },
        {
          "metadata": {
            "tags": null
          },
          "name": "stdout",
          "output_type": "stream",
          "text": [
            "INFO:tensorflow:Assets written to: /content/drive/MyDrive/Orbit_final_project/bestModel9/checkpoint_15/assets\n"
          ]
        },
        {
          "metadata": {
            "tags": null
          },
          "name": "stderr",
          "output_type": "stream",
          "text": [
            "INFO:tensorflow:Assets written to: /content/drive/MyDrive/Orbit_final_project/bestModel9/checkpoint_15/assets\n"
          ]
        },
        {
          "metadata": {
            "tags": null
          },
          "name": "stdout",
          "output_type": "stream",
          "text": [
            "19/19 [==============================] - 205s 11s/step - loss: 2.1303 - accuracy: 0.9332 - val_loss: 2.2860 - val_accuracy: 0.9078 - lr: 0.0010\n",
            "Epoch 16/100\n",
            "19/19 [==============================] - ETA: 0s - loss: 2.0365 - accuracy: 0.9323\n",
            "Epoch 00016: saving model to /content/drive/MyDrive/Orbit_final_project/bestModel9/checkpoint_16\n"
          ]
        },
        {
          "metadata": {
            "tags": null
          },
          "name": "stderr",
          "output_type": "stream",
          "text": [
            "WARNING:absl:Found untraced functions such as leaky_re_lu_20_layer_call_fn, leaky_re_lu_20_layer_call_and_return_conditional_losses, leaky_re_lu_21_layer_call_fn, leaky_re_lu_21_layer_call_and_return_conditional_losses, leaky_re_lu_20_layer_call_fn while saving (showing 5 of 10). These functions will not be directly callable after loading.\n"
          ]
        },
        {
          "metadata": {
            "tags": null
          },
          "name": "stdout",
          "output_type": "stream",
          "text": [
            "INFO:tensorflow:Assets written to: /content/drive/MyDrive/Orbit_final_project/bestModel9/checkpoint_16/assets\n"
          ]
        },
        {
          "metadata": {
            "tags": null
          },
          "name": "stderr",
          "output_type": "stream",
          "text": [
            "INFO:tensorflow:Assets written to: /content/drive/MyDrive/Orbit_final_project/bestModel9/checkpoint_16/assets\n"
          ]
        },
        {
          "metadata": {
            "tags": null
          },
          "name": "stdout",
          "output_type": "stream",
          "text": [
            "19/19 [==============================] - 207s 11s/step - loss: 2.0365 - accuracy: 0.9323 - val_loss: 2.1200 - val_accuracy: 0.9124 - lr: 0.0010\n",
            "Epoch 17/100\n",
            "19/19 [==============================] - ETA: 0s - loss: 1.9329 - accuracy: 0.9353\n",
            "Epoch 00017: saving model to /content/drive/MyDrive/Orbit_final_project/bestModel9/checkpoint_17\n"
          ]
        },
        {
          "metadata": {
            "tags": null
          },
          "name": "stderr",
          "output_type": "stream",
          "text": [
            "WARNING:absl:Found untraced functions such as leaky_re_lu_20_layer_call_fn, leaky_re_lu_20_layer_call_and_return_conditional_losses, leaky_re_lu_21_layer_call_fn, leaky_re_lu_21_layer_call_and_return_conditional_losses, leaky_re_lu_20_layer_call_fn while saving (showing 5 of 10). These functions will not be directly callable after loading.\n"
          ]
        },
        {
          "metadata": {
            "tags": null
          },
          "name": "stdout",
          "output_type": "stream",
          "text": [
            "INFO:tensorflow:Assets written to: /content/drive/MyDrive/Orbit_final_project/bestModel9/checkpoint_17/assets\n"
          ]
        },
        {
          "metadata": {
            "tags": null
          },
          "name": "stderr",
          "output_type": "stream",
          "text": [
            "INFO:tensorflow:Assets written to: /content/drive/MyDrive/Orbit_final_project/bestModel9/checkpoint_17/assets\n"
          ]
        },
        {
          "metadata": {
            "tags": null
          },
          "name": "stdout",
          "output_type": "stream",
          "text": [
            "19/19 [==============================] - 207s 11s/step - loss: 1.9329 - accuracy: 0.9353 - val_loss: 2.0718 - val_accuracy: 0.9055 - lr: 0.0010\n",
            "Epoch 18/100\n",
            "19/19 [==============================] - ETA: 0s - loss: 1.8517 - accuracy: 0.9298\n",
            "Epoch 00018: saving model to /content/drive/MyDrive/Orbit_final_project/bestModel9/checkpoint_18\n"
          ]
        },
        {
          "metadata": {
            "tags": null
          },
          "name": "stderr",
          "output_type": "stream",
          "text": [
            "WARNING:absl:Found untraced functions such as leaky_re_lu_20_layer_call_fn, leaky_re_lu_20_layer_call_and_return_conditional_losses, leaky_re_lu_21_layer_call_fn, leaky_re_lu_21_layer_call_and_return_conditional_losses, leaky_re_lu_20_layer_call_fn while saving (showing 5 of 10). These functions will not be directly callable after loading.\n"
          ]
        },
        {
          "metadata": {
            "tags": null
          },
          "name": "stdout",
          "output_type": "stream",
          "text": [
            "INFO:tensorflow:Assets written to: /content/drive/MyDrive/Orbit_final_project/bestModel9/checkpoint_18/assets\n"
          ]
        },
        {
          "metadata": {
            "tags": null
          },
          "name": "stderr",
          "output_type": "stream",
          "text": [
            "INFO:tensorflow:Assets written to: /content/drive/MyDrive/Orbit_final_project/bestModel9/checkpoint_18/assets\n"
          ]
        },
        {
          "metadata": {
            "tags": null
          },
          "name": "stdout",
          "output_type": "stream",
          "text": [
            "19/19 [==============================] - 211s 11s/step - loss: 1.8517 - accuracy: 0.9298 - val_loss: 1.9869 - val_accuracy: 0.9055 - lr: 0.0010\n",
            "Epoch 19/100\n",
            "19/19 [==============================] - ETA: 0s - loss: 1.7981 - accuracy: 0.9235\n",
            "Epoch 00019: saving model to /content/drive/MyDrive/Orbit_final_project/bestModel9/checkpoint_19\n"
          ]
        },
        {
          "metadata": {
            "tags": null
          },
          "name": "stderr",
          "output_type": "stream",
          "text": [
            "WARNING:absl:Found untraced functions such as leaky_re_lu_20_layer_call_fn, leaky_re_lu_20_layer_call_and_return_conditional_losses, leaky_re_lu_21_layer_call_fn, leaky_re_lu_21_layer_call_and_return_conditional_losses, leaky_re_lu_20_layer_call_fn while saving (showing 5 of 10). These functions will not be directly callable after loading.\n"
          ]
        },
        {
          "metadata": {
            "tags": null
          },
          "name": "stdout",
          "output_type": "stream",
          "text": [
            "INFO:tensorflow:Assets written to: /content/drive/MyDrive/Orbit_final_project/bestModel9/checkpoint_19/assets\n"
          ]
        },
        {
          "metadata": {
            "tags": null
          },
          "name": "stderr",
          "output_type": "stream",
          "text": [
            "INFO:tensorflow:Assets written to: /content/drive/MyDrive/Orbit_final_project/bestModel9/checkpoint_19/assets\n"
          ]
        },
        {
          "metadata": {
            "tags": null
          },
          "name": "stdout",
          "output_type": "stream",
          "text": [
            "19/19 [==============================] - 212s 11s/step - loss: 1.7981 - accuracy: 0.9235 - val_loss: 1.9140 - val_accuracy: 0.9078 - lr: 0.0010\n",
            "Epoch 20/100\n",
            "19/19 [==============================] - ETA: 0s - loss: 1.7115 - accuracy: 0.9294\n",
            "Epoch 00020: saving model to /content/drive/MyDrive/Orbit_final_project/bestModel9/checkpoint_20\n"
          ]
        },
        {
          "metadata": {
            "tags": null
          },
          "name": "stderr",
          "output_type": "stream",
          "text": [
            "WARNING:absl:Found untraced functions such as leaky_re_lu_20_layer_call_fn, leaky_re_lu_20_layer_call_and_return_conditional_losses, leaky_re_lu_21_layer_call_fn, leaky_re_lu_21_layer_call_and_return_conditional_losses, leaky_re_lu_20_layer_call_fn while saving (showing 5 of 10). These functions will not be directly callable after loading.\n"
          ]
        },
        {
          "metadata": {
            "tags": null
          },
          "name": "stdout",
          "output_type": "stream",
          "text": [
            "INFO:tensorflow:Assets written to: /content/drive/MyDrive/Orbit_final_project/bestModel9/checkpoint_20/assets\n"
          ]
        },
        {
          "metadata": {
            "tags": null
          },
          "name": "stderr",
          "output_type": "stream",
          "text": [
            "INFO:tensorflow:Assets written to: /content/drive/MyDrive/Orbit_final_project/bestModel9/checkpoint_20/assets\n"
          ]
        },
        {
          "metadata": {
            "tags": null
          },
          "name": "stdout",
          "output_type": "stream",
          "text": [
            "19/19 [==============================] - 229s 12s/step - loss: 1.7115 - accuracy: 0.9294 - val_loss: 1.7592 - val_accuracy: 0.9332 - lr: 0.0010\n",
            "Epoch 21/100\n",
            "19/19 [==============================] - ETA: 0s - loss: 1.6217 - accuracy: 0.9378\n",
            "Epoch 00021: saving model to /content/drive/MyDrive/Orbit_final_project/bestModel9/checkpoint_21\n"
          ]
        },
        {
          "metadata": {
            "tags": null
          },
          "name": "stderr",
          "output_type": "stream",
          "text": [
            "WARNING:absl:Found untraced functions such as leaky_re_lu_20_layer_call_fn, leaky_re_lu_20_layer_call_and_return_conditional_losses, leaky_re_lu_21_layer_call_fn, leaky_re_lu_21_layer_call_and_return_conditional_losses, leaky_re_lu_20_layer_call_fn while saving (showing 5 of 10). These functions will not be directly callable after loading.\n"
          ]
        },
        {
          "metadata": {
            "tags": null
          },
          "name": "stdout",
          "output_type": "stream",
          "text": [
            "INFO:tensorflow:Assets written to: /content/drive/MyDrive/Orbit_final_project/bestModel9/checkpoint_21/assets\n"
          ]
        },
        {
          "metadata": {
            "tags": null
          },
          "name": "stderr",
          "output_type": "stream",
          "text": [
            "INFO:tensorflow:Assets written to: /content/drive/MyDrive/Orbit_final_project/bestModel9/checkpoint_21/assets\n"
          ]
        },
        {
          "metadata": {
            "tags": null
          },
          "name": "stdout",
          "output_type": "stream",
          "text": [
            "19/19 [==============================] - 229s 12s/step - loss: 1.6217 - accuracy: 0.9378 - val_loss: 1.7229 - val_accuracy: 0.9263 - lr: 0.0010\n",
            "Epoch 22/100\n",
            "19/19 [==============================] - ETA: 0s - loss: 1.5573 - accuracy: 0.9370\n",
            "Epoch 00022: saving model to /content/drive/MyDrive/Orbit_final_project/bestModel9/checkpoint_22\n"
          ]
        },
        {
          "metadata": {
            "tags": null
          },
          "name": "stderr",
          "output_type": "stream",
          "text": [
            "WARNING:absl:Found untraced functions such as leaky_re_lu_20_layer_call_fn, leaky_re_lu_20_layer_call_and_return_conditional_losses, leaky_re_lu_21_layer_call_fn, leaky_re_lu_21_layer_call_and_return_conditional_losses, leaky_re_lu_20_layer_call_fn while saving (showing 5 of 10). These functions will not be directly callable after loading.\n"
          ]
        },
        {
          "metadata": {
            "tags": null
          },
          "name": "stdout",
          "output_type": "stream",
          "text": [
            "INFO:tensorflow:Assets written to: /content/drive/MyDrive/Orbit_final_project/bestModel9/checkpoint_22/assets\n"
          ]
        },
        {
          "metadata": {
            "tags": null
          },
          "name": "stderr",
          "output_type": "stream",
          "text": [
            "INFO:tensorflow:Assets written to: /content/drive/MyDrive/Orbit_final_project/bestModel9/checkpoint_22/assets\n"
          ]
        },
        {
          "metadata": {
            "tags": null
          },
          "name": "stdout",
          "output_type": "stream",
          "text": [
            "19/19 [==============================] - 230s 12s/step - loss: 1.5573 - accuracy: 0.9370 - val_loss: 1.6503 - val_accuracy: 0.9147 - lr: 0.0010\n",
            "Epoch 23/100\n",
            "19/19 [==============================] - ETA: 0s - loss: 1.4848 - accuracy: 0.9345\n",
            "Epoch 00023: saving model to /content/drive/MyDrive/Orbit_final_project/bestModel9/checkpoint_23\n"
          ]
        },
        {
          "metadata": {
            "tags": null
          },
          "name": "stderr",
          "output_type": "stream",
          "text": [
            "WARNING:absl:Found untraced functions such as leaky_re_lu_20_layer_call_fn, leaky_re_lu_20_layer_call_and_return_conditional_losses, leaky_re_lu_21_layer_call_fn, leaky_re_lu_21_layer_call_and_return_conditional_losses, leaky_re_lu_20_layer_call_fn while saving (showing 5 of 10). These functions will not be directly callable after loading.\n"
          ]
        },
        {
          "metadata": {
            "tags": null
          },
          "name": "stdout",
          "output_type": "stream",
          "text": [
            "INFO:tensorflow:Assets written to: /content/drive/MyDrive/Orbit_final_project/bestModel9/checkpoint_23/assets\n"
          ]
        },
        {
          "metadata": {
            "tags": null
          },
          "name": "stderr",
          "output_type": "stream",
          "text": [
            "INFO:tensorflow:Assets written to: /content/drive/MyDrive/Orbit_final_project/bestModel9/checkpoint_23/assets\n"
          ]
        },
        {
          "metadata": {
            "tags": null
          },
          "name": "stdout",
          "output_type": "stream",
          "text": [
            "19/19 [==============================] - 236s 13s/step - loss: 1.4848 - accuracy: 0.9345 - val_loss: 1.6470 - val_accuracy: 0.9009 - lr: 0.0010\n",
            "Epoch 24/100\n",
            "19/19 [==============================] - ETA: 0s - loss: 1.4146 - accuracy: 0.9433\n",
            "Epoch 00024: saving model to /content/drive/MyDrive/Orbit_final_project/bestModel9/checkpoint_24\n"
          ]
        },
        {
          "metadata": {
            "tags": null
          },
          "name": "stderr",
          "output_type": "stream",
          "text": [
            "WARNING:absl:Found untraced functions such as leaky_re_lu_20_layer_call_fn, leaky_re_lu_20_layer_call_and_return_conditional_losses, leaky_re_lu_21_layer_call_fn, leaky_re_lu_21_layer_call_and_return_conditional_losses, leaky_re_lu_20_layer_call_fn while saving (showing 5 of 10). These functions will not be directly callable after loading.\n"
          ]
        },
        {
          "metadata": {
            "tags": null
          },
          "name": "stdout",
          "output_type": "stream",
          "text": [
            "INFO:tensorflow:Assets written to: /content/drive/MyDrive/Orbit_final_project/bestModel9/checkpoint_24/assets\n"
          ]
        },
        {
          "metadata": {
            "tags": null
          },
          "name": "stderr",
          "output_type": "stream",
          "text": [
            "INFO:tensorflow:Assets written to: /content/drive/MyDrive/Orbit_final_project/bestModel9/checkpoint_24/assets\n"
          ]
        },
        {
          "metadata": {
            "tags": null
          },
          "name": "stdout",
          "output_type": "stream",
          "text": [
            "19/19 [==============================] - 230s 12s/step - loss: 1.4146 - accuracy: 0.9433 - val_loss: 1.4852 - val_accuracy: 0.9286 - lr: 0.0010\n",
            "Epoch 25/100\n",
            "19/19 [==============================] - ETA: 0s - loss: 1.3697 - accuracy: 0.9420\n",
            "Epoch 00025: saving model to /content/drive/MyDrive/Orbit_final_project/bestModel9/checkpoint_25\n"
          ]
        },
        {
          "metadata": {
            "tags": null
          },
          "name": "stderr",
          "output_type": "stream",
          "text": [
            "WARNING:absl:Found untraced functions such as leaky_re_lu_20_layer_call_fn, leaky_re_lu_20_layer_call_and_return_conditional_losses, leaky_re_lu_21_layer_call_fn, leaky_re_lu_21_layer_call_and_return_conditional_losses, leaky_re_lu_20_layer_call_fn while saving (showing 5 of 10). These functions will not be directly callable after loading.\n"
          ]
        },
        {
          "metadata": {
            "tags": null
          },
          "name": "stdout",
          "output_type": "stream",
          "text": [
            "INFO:tensorflow:Assets written to: /content/drive/MyDrive/Orbit_final_project/bestModel9/checkpoint_25/assets\n"
          ]
        },
        {
          "metadata": {
            "tags": null
          },
          "name": "stderr",
          "output_type": "stream",
          "text": [
            "INFO:tensorflow:Assets written to: /content/drive/MyDrive/Orbit_final_project/bestModel9/checkpoint_25/assets\n"
          ]
        },
        {
          "metadata": {
            "tags": null
          },
          "name": "stdout",
          "output_type": "stream",
          "text": [
            "19/19 [==============================] - 231s 12s/step - loss: 1.3697 - accuracy: 0.9420 - val_loss: 1.4853 - val_accuracy: 0.9286 - lr: 0.0010\n",
            "Epoch 26/100\n",
            "19/19 [==============================] - ETA: 0s - loss: 1.3150 - accuracy: 0.9328\n",
            "Epoch 00026: saving model to /content/drive/MyDrive/Orbit_final_project/bestModel9/checkpoint_26\n"
          ]
        },
        {
          "metadata": {
            "tags": null
          },
          "name": "stderr",
          "output_type": "stream",
          "text": [
            "WARNING:absl:Found untraced functions such as leaky_re_lu_20_layer_call_fn, leaky_re_lu_20_layer_call_and_return_conditional_losses, leaky_re_lu_21_layer_call_fn, leaky_re_lu_21_layer_call_and_return_conditional_losses, leaky_re_lu_20_layer_call_fn while saving (showing 5 of 10). These functions will not be directly callable after loading.\n"
          ]
        },
        {
          "metadata": {
            "tags": null
          },
          "name": "stdout",
          "output_type": "stream",
          "text": [
            "INFO:tensorflow:Assets written to: /content/drive/MyDrive/Orbit_final_project/bestModel9/checkpoint_26/assets\n"
          ]
        },
        {
          "metadata": {
            "tags": null
          },
          "name": "stderr",
          "output_type": "stream",
          "text": [
            "INFO:tensorflow:Assets written to: /content/drive/MyDrive/Orbit_final_project/bestModel9/checkpoint_26/assets\n"
          ]
        },
        {
          "metadata": {
            "tags": null
          },
          "name": "stdout",
          "output_type": "stream",
          "text": [
            "19/19 [==============================] - 229s 12s/step - loss: 1.3150 - accuracy: 0.9328 - val_loss: 1.5090 - val_accuracy: 0.9055 - lr: 0.0010\n",
            "Epoch 27/100\n",
            "19/19 [==============================] - ETA: 0s - loss: 1.2763 - accuracy: 0.9302\n",
            "Epoch 00027: saving model to /content/drive/MyDrive/Orbit_final_project/bestModel9/checkpoint_27\n"
          ]
        },
        {
          "metadata": {
            "tags": null
          },
          "name": "stderr",
          "output_type": "stream",
          "text": [
            "WARNING:absl:Found untraced functions such as leaky_re_lu_20_layer_call_fn, leaky_re_lu_20_layer_call_and_return_conditional_losses, leaky_re_lu_21_layer_call_fn, leaky_re_lu_21_layer_call_and_return_conditional_losses, leaky_re_lu_20_layer_call_fn while saving (showing 5 of 10). These functions will not be directly callable after loading.\n"
          ]
        },
        {
          "metadata": {
            "tags": null
          },
          "name": "stdout",
          "output_type": "stream",
          "text": [
            "INFO:tensorflow:Assets written to: /content/drive/MyDrive/Orbit_final_project/bestModel9/checkpoint_27/assets\n"
          ]
        },
        {
          "metadata": {
            "tags": null
          },
          "name": "stderr",
          "output_type": "stream",
          "text": [
            "INFO:tensorflow:Assets written to: /content/drive/MyDrive/Orbit_final_project/bestModel9/checkpoint_27/assets\n"
          ]
        },
        {
          "metadata": {
            "tags": null
          },
          "name": "stdout",
          "output_type": "stream",
          "text": [
            "19/19 [==============================] - 230s 12s/step - loss: 1.2763 - accuracy: 0.9302 - val_loss: 1.4128 - val_accuracy: 0.9263 - lr: 0.0010\n",
            "Epoch 28/100\n",
            "19/19 [==============================] - ETA: 0s - loss: 1.2188 - accuracy: 0.9387\n",
            "Epoch 00028: saving model to /content/drive/MyDrive/Orbit_final_project/bestModel9/checkpoint_28\n"
          ]
        },
        {
          "metadata": {
            "tags": null
          },
          "name": "stderr",
          "output_type": "stream",
          "text": [
            "WARNING:absl:Found untraced functions such as leaky_re_lu_20_layer_call_fn, leaky_re_lu_20_layer_call_and_return_conditional_losses, leaky_re_lu_21_layer_call_fn, leaky_re_lu_21_layer_call_and_return_conditional_losses, leaky_re_lu_20_layer_call_fn while saving (showing 5 of 10). These functions will not be directly callable after loading.\n"
          ]
        },
        {
          "metadata": {
            "tags": null
          },
          "name": "stdout",
          "output_type": "stream",
          "text": [
            "INFO:tensorflow:Assets written to: /content/drive/MyDrive/Orbit_final_project/bestModel9/checkpoint_28/assets\n"
          ]
        },
        {
          "metadata": {
            "tags": null
          },
          "name": "stderr",
          "output_type": "stream",
          "text": [
            "INFO:tensorflow:Assets written to: /content/drive/MyDrive/Orbit_final_project/bestModel9/checkpoint_28/assets\n"
          ]
        },
        {
          "metadata": {
            "tags": null
          },
          "name": "stdout",
          "output_type": "stream",
          "text": [
            "19/19 [==============================] - 228s 12s/step - loss: 1.2188 - accuracy: 0.9387 - val_loss: 1.4089 - val_accuracy: 0.8940 - lr: 0.0010\n",
            "Epoch 29/100\n",
            "19/19 [==============================] - ETA: 0s - loss: 1.2082 - accuracy: 0.9370\n",
            "Epoch 00029: saving model to /content/drive/MyDrive/Orbit_final_project/bestModel9/checkpoint_29\n"
          ]
        },
        {
          "metadata": {
            "tags": null
          },
          "name": "stderr",
          "output_type": "stream",
          "text": [
            "WARNING:absl:Found untraced functions such as leaky_re_lu_20_layer_call_fn, leaky_re_lu_20_layer_call_and_return_conditional_losses, leaky_re_lu_21_layer_call_fn, leaky_re_lu_21_layer_call_and_return_conditional_losses, leaky_re_lu_20_layer_call_fn while saving (showing 5 of 10). These functions will not be directly callable after loading.\n"
          ]
        },
        {
          "metadata": {
            "tags": null
          },
          "name": "stdout",
          "output_type": "stream",
          "text": [
            "INFO:tensorflow:Assets written to: /content/drive/MyDrive/Orbit_final_project/bestModel9/checkpoint_29/assets\n"
          ]
        },
        {
          "metadata": {
            "tags": null
          },
          "name": "stderr",
          "output_type": "stream",
          "text": [
            "INFO:tensorflow:Assets written to: /content/drive/MyDrive/Orbit_final_project/bestModel9/checkpoint_29/assets\n"
          ]
        },
        {
          "metadata": {
            "tags": null
          },
          "name": "stdout",
          "output_type": "stream",
          "text": [
            "19/19 [==============================] - 228s 12s/step - loss: 1.2082 - accuracy: 0.9370 - val_loss: 1.2720 - val_accuracy: 0.9101 - lr: 0.0010\n",
            "Epoch 30/100\n",
            "19/19 [==============================] - ETA: 0s - loss: 1.1343 - accuracy: 0.9450\n",
            "Epoch 00030: saving model to /content/drive/MyDrive/Orbit_final_project/bestModel9/checkpoint_30\n"
          ]
        },
        {
          "metadata": {
            "tags": null
          },
          "name": "stderr",
          "output_type": "stream",
          "text": [
            "WARNING:absl:Found untraced functions such as leaky_re_lu_20_layer_call_fn, leaky_re_lu_20_layer_call_and_return_conditional_losses, leaky_re_lu_21_layer_call_fn, leaky_re_lu_21_layer_call_and_return_conditional_losses, leaky_re_lu_20_layer_call_fn while saving (showing 5 of 10). These functions will not be directly callable after loading.\n"
          ]
        },
        {
          "metadata": {
            "tags": null
          },
          "name": "stdout",
          "output_type": "stream",
          "text": [
            "INFO:tensorflow:Assets written to: /content/drive/MyDrive/Orbit_final_project/bestModel9/checkpoint_30/assets\n"
          ]
        },
        {
          "metadata": {
            "tags": null
          },
          "name": "stderr",
          "output_type": "stream",
          "text": [
            "INFO:tensorflow:Assets written to: /content/drive/MyDrive/Orbit_final_project/bestModel9/checkpoint_30/assets\n"
          ]
        },
        {
          "metadata": {
            "tags": null
          },
          "name": "stdout",
          "output_type": "stream",
          "text": [
            "\n",
            "Epoch 00030: ReduceLROnPlateau reducing learning rate to 0.0005000000237487257.\n",
            "19/19 [==============================] - 228s 12s/step - loss: 1.1343 - accuracy: 0.9450 - val_loss: 1.3316 - val_accuracy: 0.9009 - lr: 0.0010\n",
            "Epoch 31/100\n",
            "19/19 [==============================] - ETA: 0s - loss: 1.0969 - accuracy: 0.9442\n",
            "Epoch 00031: saving model to /content/drive/MyDrive/Orbit_final_project/bestModel9/checkpoint_31\n"
          ]
        },
        {
          "metadata": {
            "tags": null
          },
          "name": "stderr",
          "output_type": "stream",
          "text": [
            "WARNING:absl:Found untraced functions such as leaky_re_lu_20_layer_call_fn, leaky_re_lu_20_layer_call_and_return_conditional_losses, leaky_re_lu_21_layer_call_fn, leaky_re_lu_21_layer_call_and_return_conditional_losses, leaky_re_lu_20_layer_call_fn while saving (showing 5 of 10). These functions will not be directly callable after loading.\n"
          ]
        },
        {
          "metadata": {
            "tags": null
          },
          "name": "stdout",
          "output_type": "stream",
          "text": [
            "INFO:tensorflow:Assets written to: /content/drive/MyDrive/Orbit_final_project/bestModel9/checkpoint_31/assets\n"
          ]
        },
        {
          "metadata": {
            "tags": null
          },
          "name": "stderr",
          "output_type": "stream",
          "text": [
            "INFO:tensorflow:Assets written to: /content/drive/MyDrive/Orbit_final_project/bestModel9/checkpoint_31/assets\n"
          ]
        },
        {
          "metadata": {
            "tags": null
          },
          "name": "stdout",
          "output_type": "stream",
          "text": [
            "19/19 [==============================] - 215s 11s/step - loss: 1.0969 - accuracy: 0.9442 - val_loss: 1.2836 - val_accuracy: 0.9009 - lr: 5.0000e-04\n",
            "Epoch 32/100\n",
            "19/19 [==============================] - ETA: 0s - loss: 1.0275 - accuracy: 0.9564\n",
            "Epoch 00032: saving model to /content/drive/MyDrive/Orbit_final_project/bestModel9/checkpoint_32\n"
          ]
        },
        {
          "metadata": {
            "tags": null
          },
          "name": "stderr",
          "output_type": "stream",
          "text": [
            "WARNING:absl:Found untraced functions such as leaky_re_lu_20_layer_call_fn, leaky_re_lu_20_layer_call_and_return_conditional_losses, leaky_re_lu_21_layer_call_fn, leaky_re_lu_21_layer_call_and_return_conditional_losses, leaky_re_lu_20_layer_call_fn while saving (showing 5 of 10). These functions will not be directly callable after loading.\n"
          ]
        },
        {
          "metadata": {
            "tags": null
          },
          "name": "stdout",
          "output_type": "stream",
          "text": [
            "INFO:tensorflow:Assets written to: /content/drive/MyDrive/Orbit_final_project/bestModel9/checkpoint_32/assets\n"
          ]
        },
        {
          "metadata": {
            "tags": null
          },
          "name": "stderr",
          "output_type": "stream",
          "text": [
            "INFO:tensorflow:Assets written to: /content/drive/MyDrive/Orbit_final_project/bestModel9/checkpoint_32/assets\n"
          ]
        },
        {
          "metadata": {
            "tags": null
          },
          "name": "stdout",
          "output_type": "stream",
          "text": [
            "19/19 [==============================] - 213s 11s/step - loss: 1.0275 - accuracy: 0.9564 - val_loss: 1.2448 - val_accuracy: 0.9286 - lr: 5.0000e-04\n",
            "Epoch 33/100\n",
            "19/19 [==============================] - ETA: 0s - loss: 1.0075 - accuracy: 0.9586\n",
            "Epoch 00033: saving model to /content/drive/MyDrive/Orbit_final_project/bestModel9/checkpoint_33\n"
          ]
        },
        {
          "metadata": {
            "tags": null
          },
          "name": "stderr",
          "output_type": "stream",
          "text": [
            "WARNING:absl:Found untraced functions such as leaky_re_lu_20_layer_call_fn, leaky_re_lu_20_layer_call_and_return_conditional_losses, leaky_re_lu_21_layer_call_fn, leaky_re_lu_21_layer_call_and_return_conditional_losses, leaky_re_lu_20_layer_call_fn while saving (showing 5 of 10). These functions will not be directly callable after loading.\n"
          ]
        },
        {
          "metadata": {
            "tags": null
          },
          "name": "stdout",
          "output_type": "stream",
          "text": [
            "INFO:tensorflow:Assets written to: /content/drive/MyDrive/Orbit_final_project/bestModel9/checkpoint_33/assets\n"
          ]
        },
        {
          "metadata": {
            "tags": null
          },
          "name": "stderr",
          "output_type": "stream",
          "text": [
            "INFO:tensorflow:Assets written to: /content/drive/MyDrive/Orbit_final_project/bestModel9/checkpoint_33/assets\n"
          ]
        },
        {
          "metadata": {
            "tags": null
          },
          "name": "stdout",
          "output_type": "stream",
          "text": [
            "19/19 [==============================] - 208s 11s/step - loss: 1.0075 - accuracy: 0.9586 - val_loss: 1.1730 - val_accuracy: 0.9217 - lr: 5.0000e-04\n",
            "Epoch 34/100\n",
            "19/19 [==============================] - ETA: 0s - loss: 0.9783 - accuracy: 0.9560\n",
            "Epoch 00034: saving model to /content/drive/MyDrive/Orbit_final_project/bestModel9/checkpoint_34\n"
          ]
        },
        {
          "metadata": {
            "tags": null
          },
          "name": "stderr",
          "output_type": "stream",
          "text": [
            "WARNING:absl:Found untraced functions such as leaky_re_lu_20_layer_call_fn, leaky_re_lu_20_layer_call_and_return_conditional_losses, leaky_re_lu_21_layer_call_fn, leaky_re_lu_21_layer_call_and_return_conditional_losses, leaky_re_lu_20_layer_call_fn while saving (showing 5 of 10). These functions will not be directly callable after loading.\n"
          ]
        },
        {
          "metadata": {
            "tags": null
          },
          "name": "stdout",
          "output_type": "stream",
          "text": [
            "INFO:tensorflow:Assets written to: /content/drive/MyDrive/Orbit_final_project/bestModel9/checkpoint_34/assets\n"
          ]
        },
        {
          "metadata": {
            "tags": null
          },
          "name": "stderr",
          "output_type": "stream",
          "text": [
            "INFO:tensorflow:Assets written to: /content/drive/MyDrive/Orbit_final_project/bestModel9/checkpoint_34/assets\n"
          ]
        },
        {
          "metadata": {
            "tags": null
          },
          "name": "stdout",
          "output_type": "stream",
          "text": [
            "19/19 [==============================] - 208s 11s/step - loss: 0.9783 - accuracy: 0.9560 - val_loss: 1.1368 - val_accuracy: 0.9286 - lr: 5.0000e-04\n",
            "Epoch 35/100\n",
            "19/19 [==============================] - ETA: 0s - loss: 0.9437 - accuracy: 0.9611\n",
            "Epoch 00035: saving model to /content/drive/MyDrive/Orbit_final_project/bestModel9/checkpoint_35\n"
          ]
        },
        {
          "metadata": {
            "tags": null
          },
          "name": "stderr",
          "output_type": "stream",
          "text": [
            "WARNING:absl:Found untraced functions such as leaky_re_lu_20_layer_call_fn, leaky_re_lu_20_layer_call_and_return_conditional_losses, leaky_re_lu_21_layer_call_fn, leaky_re_lu_21_layer_call_and_return_conditional_losses, leaky_re_lu_20_layer_call_fn while saving (showing 5 of 10). These functions will not be directly callable after loading.\n"
          ]
        },
        {
          "metadata": {
            "tags": null
          },
          "name": "stdout",
          "output_type": "stream",
          "text": [
            "INFO:tensorflow:Assets written to: /content/drive/MyDrive/Orbit_final_project/bestModel9/checkpoint_35/assets\n"
          ]
        },
        {
          "metadata": {
            "tags": null
          },
          "name": "stderr",
          "output_type": "stream",
          "text": [
            "INFO:tensorflow:Assets written to: /content/drive/MyDrive/Orbit_final_project/bestModel9/checkpoint_35/assets\n"
          ]
        },
        {
          "metadata": {
            "tags": null
          },
          "name": "stdout",
          "output_type": "stream",
          "text": [
            "19/19 [==============================] - 208s 11s/step - loss: 0.9437 - accuracy: 0.9611 - val_loss: 1.1069 - val_accuracy: 0.9355 - lr: 5.0000e-04\n",
            "Epoch 36/100\n",
            "19/19 [==============================] - ETA: 0s - loss: 0.9284 - accuracy: 0.9624\n",
            "Epoch 00036: saving model to /content/drive/MyDrive/Orbit_final_project/bestModel9/checkpoint_36\n"
          ]
        },
        {
          "metadata": {
            "tags": null
          },
          "name": "stderr",
          "output_type": "stream",
          "text": [
            "WARNING:absl:Found untraced functions such as leaky_re_lu_20_layer_call_fn, leaky_re_lu_20_layer_call_and_return_conditional_losses, leaky_re_lu_21_layer_call_fn, leaky_re_lu_21_layer_call_and_return_conditional_losses, leaky_re_lu_20_layer_call_fn while saving (showing 5 of 10). These functions will not be directly callable after loading.\n"
          ]
        },
        {
          "metadata": {
            "tags": null
          },
          "name": "stdout",
          "output_type": "stream",
          "text": [
            "INFO:tensorflow:Assets written to: /content/drive/MyDrive/Orbit_final_project/bestModel9/checkpoint_36/assets\n"
          ]
        },
        {
          "metadata": {
            "tags": null
          },
          "name": "stderr",
          "output_type": "stream",
          "text": [
            "INFO:tensorflow:Assets written to: /content/drive/MyDrive/Orbit_final_project/bestModel9/checkpoint_36/assets\n"
          ]
        },
        {
          "metadata": {
            "tags": null
          },
          "name": "stdout",
          "output_type": "stream",
          "text": [
            "19/19 [==============================] - 207s 11s/step - loss: 0.9284 - accuracy: 0.9624 - val_loss: 1.0939 - val_accuracy: 0.9194 - lr: 5.0000e-04\n",
            "Epoch 37/100\n",
            "19/19 [==============================] - ETA: 0s - loss: 0.8783 - accuracy: 0.9700\n",
            "Epoch 00037: saving model to /content/drive/MyDrive/Orbit_final_project/bestModel9/checkpoint_37\n"
          ]
        },
        {
          "metadata": {
            "tags": null
          },
          "name": "stderr",
          "output_type": "stream",
          "text": [
            "WARNING:absl:Found untraced functions such as leaky_re_lu_20_layer_call_fn, leaky_re_lu_20_layer_call_and_return_conditional_losses, leaky_re_lu_21_layer_call_fn, leaky_re_lu_21_layer_call_and_return_conditional_losses, leaky_re_lu_20_layer_call_fn while saving (showing 5 of 10). These functions will not be directly callable after loading.\n"
          ]
        },
        {
          "metadata": {
            "tags": null
          },
          "name": "stdout",
          "output_type": "stream",
          "text": [
            "INFO:tensorflow:Assets written to: /content/drive/MyDrive/Orbit_final_project/bestModel9/checkpoint_37/assets\n"
          ]
        },
        {
          "metadata": {
            "tags": null
          },
          "name": "stderr",
          "output_type": "stream",
          "text": [
            "INFO:tensorflow:Assets written to: /content/drive/MyDrive/Orbit_final_project/bestModel9/checkpoint_37/assets\n"
          ]
        },
        {
          "metadata": {
            "tags": null
          },
          "name": "stdout",
          "output_type": "stream",
          "text": [
            "19/19 [==============================] - 209s 11s/step - loss: 0.8783 - accuracy: 0.9700 - val_loss: 1.0852 - val_accuracy: 0.9194 - lr: 5.0000e-04\n",
            "Epoch 38/100\n",
            "19/19 [==============================] - ETA: 0s - loss: 0.8773 - accuracy: 0.9645\n",
            "Epoch 00038: saving model to /content/drive/MyDrive/Orbit_final_project/bestModel9/checkpoint_38\n"
          ]
        },
        {
          "metadata": {
            "tags": null
          },
          "name": "stderr",
          "output_type": "stream",
          "text": [
            "WARNING:absl:Found untraced functions such as leaky_re_lu_20_layer_call_fn, leaky_re_lu_20_layer_call_and_return_conditional_losses, leaky_re_lu_21_layer_call_fn, leaky_re_lu_21_layer_call_and_return_conditional_losses, leaky_re_lu_20_layer_call_fn while saving (showing 5 of 10). These functions will not be directly callable after loading.\n"
          ]
        },
        {
          "metadata": {
            "tags": null
          },
          "name": "stdout",
          "output_type": "stream",
          "text": [
            "INFO:tensorflow:Assets written to: /content/drive/MyDrive/Orbit_final_project/bestModel9/checkpoint_38/assets\n"
          ]
        },
        {
          "metadata": {
            "tags": null
          },
          "name": "stderr",
          "output_type": "stream",
          "text": [
            "INFO:tensorflow:Assets written to: /content/drive/MyDrive/Orbit_final_project/bestModel9/checkpoint_38/assets\n"
          ]
        },
        {
          "metadata": {
            "tags": null
          },
          "name": "stdout",
          "output_type": "stream",
          "text": [
            "19/19 [==============================] - 207s 11s/step - loss: 0.8773 - accuracy: 0.9645 - val_loss: 1.0194 - val_accuracy: 0.9286 - lr: 5.0000e-04\n",
            "Epoch 39/100\n",
            "19/19 [==============================] - ETA: 0s - loss: 0.8375 - accuracy: 0.9653\n",
            "Epoch 00039: saving model to /content/drive/MyDrive/Orbit_final_project/bestModel9/checkpoint_39\n"
          ]
        },
        {
          "metadata": {
            "tags": null
          },
          "name": "stderr",
          "output_type": "stream",
          "text": [
            "WARNING:absl:Found untraced functions such as leaky_re_lu_20_layer_call_fn, leaky_re_lu_20_layer_call_and_return_conditional_losses, leaky_re_lu_21_layer_call_fn, leaky_re_lu_21_layer_call_and_return_conditional_losses, leaky_re_lu_20_layer_call_fn while saving (showing 5 of 10). These functions will not be directly callable after loading.\n"
          ]
        },
        {
          "metadata": {
            "tags": null
          },
          "name": "stdout",
          "output_type": "stream",
          "text": [
            "INFO:tensorflow:Assets written to: /content/drive/MyDrive/Orbit_final_project/bestModel9/checkpoint_39/assets\n"
          ]
        },
        {
          "metadata": {
            "tags": null
          },
          "name": "stderr",
          "output_type": "stream",
          "text": [
            "INFO:tensorflow:Assets written to: /content/drive/MyDrive/Orbit_final_project/bestModel9/checkpoint_39/assets\n"
          ]
        },
        {
          "metadata": {
            "tags": null
          },
          "name": "stdout",
          "output_type": "stream",
          "text": [
            "19/19 [==============================] - 210s 11s/step - loss: 0.8375 - accuracy: 0.9653 - val_loss: 1.0148 - val_accuracy: 0.9355 - lr: 5.0000e-04\n",
            "Epoch 40/100\n",
            "19/19 [==============================] - ETA: 0s - loss: 0.8171 - accuracy: 0.9708\n",
            "Epoch 00040: saving model to /content/drive/MyDrive/Orbit_final_project/bestModel9/checkpoint_40\n"
          ]
        },
        {
          "metadata": {
            "tags": null
          },
          "name": "stderr",
          "output_type": "stream",
          "text": [
            "WARNING:absl:Found untraced functions such as leaky_re_lu_20_layer_call_fn, leaky_re_lu_20_layer_call_and_return_conditional_losses, leaky_re_lu_21_layer_call_fn, leaky_re_lu_21_layer_call_and_return_conditional_losses, leaky_re_lu_20_layer_call_fn while saving (showing 5 of 10). These functions will not be directly callable after loading.\n"
          ]
        },
        {
          "metadata": {
            "tags": null
          },
          "name": "stdout",
          "output_type": "stream",
          "text": [
            "INFO:tensorflow:Assets written to: /content/drive/MyDrive/Orbit_final_project/bestModel9/checkpoint_40/assets\n"
          ]
        },
        {
          "metadata": {
            "tags": null
          },
          "name": "stderr",
          "output_type": "stream",
          "text": [
            "INFO:tensorflow:Assets written to: /content/drive/MyDrive/Orbit_final_project/bestModel9/checkpoint_40/assets\n"
          ]
        },
        {
          "metadata": {
            "tags": null
          },
          "name": "stdout",
          "output_type": "stream",
          "text": [
            "19/19 [==============================] - 208s 11s/step - loss: 0.8171 - accuracy: 0.9708 - val_loss: 1.0122 - val_accuracy: 0.9147 - lr: 5.0000e-04\n",
            "Epoch 41/100\n",
            "19/19 [==============================] - ETA: 0s - loss: 0.8093 - accuracy: 0.9649\n",
            "Epoch 00041: saving model to /content/drive/MyDrive/Orbit_final_project/bestModel9/checkpoint_41\n"
          ]
        },
        {
          "metadata": {
            "tags": null
          },
          "name": "stderr",
          "output_type": "stream",
          "text": [
            "WARNING:absl:Found untraced functions such as leaky_re_lu_20_layer_call_fn, leaky_re_lu_20_layer_call_and_return_conditional_losses, leaky_re_lu_21_layer_call_fn, leaky_re_lu_21_layer_call_and_return_conditional_losses, leaky_re_lu_20_layer_call_fn while saving (showing 5 of 10). These functions will not be directly callable after loading.\n"
          ]
        },
        {
          "metadata": {
            "tags": null
          },
          "name": "stdout",
          "output_type": "stream",
          "text": [
            "INFO:tensorflow:Assets written to: /content/drive/MyDrive/Orbit_final_project/bestModel9/checkpoint_41/assets\n"
          ]
        },
        {
          "metadata": {
            "tags": null
          },
          "name": "stderr",
          "output_type": "stream",
          "text": [
            "INFO:tensorflow:Assets written to: /content/drive/MyDrive/Orbit_final_project/bestModel9/checkpoint_41/assets\n"
          ]
        },
        {
          "metadata": {
            "tags": null
          },
          "name": "stdout",
          "output_type": "stream",
          "text": [
            "19/19 [==============================] - 214s 11s/step - loss: 0.8093 - accuracy: 0.9649 - val_loss: 0.9725 - val_accuracy: 0.9286 - lr: 5.0000e-04\n",
            "Epoch 42/100\n",
            "19/19 [==============================] - ETA: 0s - loss: 0.7865 - accuracy: 0.9607\n",
            "Epoch 00042: saving model to /content/drive/MyDrive/Orbit_final_project/bestModel9/checkpoint_42\n"
          ]
        },
        {
          "metadata": {
            "tags": null
          },
          "name": "stderr",
          "output_type": "stream",
          "text": [
            "WARNING:absl:Found untraced functions such as leaky_re_lu_20_layer_call_fn, leaky_re_lu_20_layer_call_and_return_conditional_losses, leaky_re_lu_21_layer_call_fn, leaky_re_lu_21_layer_call_and_return_conditional_losses, leaky_re_lu_20_layer_call_fn while saving (showing 5 of 10). These functions will not be directly callable after loading.\n"
          ]
        },
        {
          "metadata": {
            "tags": null
          },
          "name": "stdout",
          "output_type": "stream",
          "text": [
            "INFO:tensorflow:Assets written to: /content/drive/MyDrive/Orbit_final_project/bestModel9/checkpoint_42/assets\n"
          ]
        },
        {
          "metadata": {
            "tags": null
          },
          "name": "stderr",
          "output_type": "stream",
          "text": [
            "INFO:tensorflow:Assets written to: /content/drive/MyDrive/Orbit_final_project/bestModel9/checkpoint_42/assets\n"
          ]
        },
        {
          "metadata": {
            "tags": null
          },
          "name": "stdout",
          "output_type": "stream",
          "text": [
            "19/19 [==============================] - 230s 12s/step - loss: 0.7865 - accuracy: 0.9607 - val_loss: 0.9727 - val_accuracy: 0.9194 - lr: 5.0000e-04\n",
            "Epoch 43/100\n",
            "19/19 [==============================] - ETA: 0s - loss: 0.7564 - accuracy: 0.9674\n",
            "Epoch 00043: saving model to /content/drive/MyDrive/Orbit_final_project/bestModel9/checkpoint_43\n"
          ]
        },
        {
          "metadata": {
            "tags": null
          },
          "name": "stderr",
          "output_type": "stream",
          "text": [
            "WARNING:absl:Found untraced functions such as leaky_re_lu_20_layer_call_fn, leaky_re_lu_20_layer_call_and_return_conditional_losses, leaky_re_lu_21_layer_call_fn, leaky_re_lu_21_layer_call_and_return_conditional_losses, leaky_re_lu_20_layer_call_fn while saving (showing 5 of 10). These functions will not be directly callable after loading.\n"
          ]
        },
        {
          "metadata": {
            "tags": null
          },
          "name": "stdout",
          "output_type": "stream",
          "text": [
            "INFO:tensorflow:Assets written to: /content/drive/MyDrive/Orbit_final_project/bestModel9/checkpoint_43/assets\n"
          ]
        },
        {
          "metadata": {
            "tags": null
          },
          "name": "stderr",
          "output_type": "stream",
          "text": [
            "INFO:tensorflow:Assets written to: /content/drive/MyDrive/Orbit_final_project/bestModel9/checkpoint_43/assets\n"
          ]
        },
        {
          "metadata": {
            "tags": null
          },
          "name": "stdout",
          "output_type": "stream",
          "text": [
            "19/19 [==============================] - 238s 13s/step - loss: 0.7564 - accuracy: 0.9674 - val_loss: 0.9654 - val_accuracy: 0.9263 - lr: 5.0000e-04\n",
            "Epoch 44/100\n",
            "19/19 [==============================] - ETA: 0s - loss: 0.7659 - accuracy: 0.9598\n",
            "Epoch 00044: saving model to /content/drive/MyDrive/Orbit_final_project/bestModel9/checkpoint_44\n"
          ]
        },
        {
          "metadata": {
            "tags": null
          },
          "name": "stderr",
          "output_type": "stream",
          "text": [
            "WARNING:absl:Found untraced functions such as leaky_re_lu_20_layer_call_fn, leaky_re_lu_20_layer_call_and_return_conditional_losses, leaky_re_lu_21_layer_call_fn, leaky_re_lu_21_layer_call_and_return_conditional_losses, leaky_re_lu_20_layer_call_fn while saving (showing 5 of 10). These functions will not be directly callable after loading.\n"
          ]
        },
        {
          "metadata": {
            "tags": null
          },
          "name": "stdout",
          "output_type": "stream",
          "text": [
            "INFO:tensorflow:Assets written to: /content/drive/MyDrive/Orbit_final_project/bestModel9/checkpoint_44/assets\n"
          ]
        },
        {
          "metadata": {
            "tags": null
          },
          "name": "stderr",
          "output_type": "stream",
          "text": [
            "INFO:tensorflow:Assets written to: /content/drive/MyDrive/Orbit_final_project/bestModel9/checkpoint_44/assets\n"
          ]
        },
        {
          "metadata": {
            "tags": null
          },
          "name": "stdout",
          "output_type": "stream",
          "text": [
            "19/19 [==============================] - 231s 12s/step - loss: 0.7659 - accuracy: 0.9598 - val_loss: 0.9445 - val_accuracy: 0.9147 - lr: 5.0000e-04\n",
            "Epoch 45/100\n",
            "19/19 [==============================] - ETA: 0s - loss: 0.7252 - accuracy: 0.9674\n",
            "Epoch 00045: saving model to /content/drive/MyDrive/Orbit_final_project/bestModel9/checkpoint_45\n"
          ]
        },
        {
          "metadata": {
            "tags": null
          },
          "name": "stderr",
          "output_type": "stream",
          "text": [
            "WARNING:absl:Found untraced functions such as leaky_re_lu_20_layer_call_fn, leaky_re_lu_20_layer_call_and_return_conditional_losses, leaky_re_lu_21_layer_call_fn, leaky_re_lu_21_layer_call_and_return_conditional_losses, leaky_re_lu_20_layer_call_fn while saving (showing 5 of 10). These functions will not be directly callable after loading.\n"
          ]
        },
        {
          "metadata": {
            "tags": null
          },
          "name": "stdout",
          "output_type": "stream",
          "text": [
            "INFO:tensorflow:Assets written to: /content/drive/MyDrive/Orbit_final_project/bestModel9/checkpoint_45/assets\n"
          ]
        },
        {
          "metadata": {
            "tags": null
          },
          "name": "stderr",
          "output_type": "stream",
          "text": [
            "INFO:tensorflow:Assets written to: /content/drive/MyDrive/Orbit_final_project/bestModel9/checkpoint_45/assets\n"
          ]
        },
        {
          "metadata": {
            "tags": null
          },
          "name": "stdout",
          "output_type": "stream",
          "text": [
            "\n",
            "Epoch 00045: ReduceLROnPlateau reducing learning rate to 0.0002500000118743628.\n",
            "19/19 [==============================] - 239s 13s/step - loss: 0.7252 - accuracy: 0.9674 - val_loss: 0.9148 - val_accuracy: 0.9240 - lr: 5.0000e-04\n",
            "Epoch 46/100\n",
            "19/19 [==============================] - ETA: 0s - loss: 0.7039 - accuracy: 0.9683\n",
            "Epoch 00046: saving model to /content/drive/MyDrive/Orbit_final_project/bestModel9/checkpoint_46\n"
          ]
        },
        {
          "metadata": {
            "tags": null
          },
          "name": "stderr",
          "output_type": "stream",
          "text": [
            "WARNING:absl:Found untraced functions such as leaky_re_lu_20_layer_call_fn, leaky_re_lu_20_layer_call_and_return_conditional_losses, leaky_re_lu_21_layer_call_fn, leaky_re_lu_21_layer_call_and_return_conditional_losses, leaky_re_lu_20_layer_call_fn while saving (showing 5 of 10). These functions will not be directly callable after loading.\n"
          ]
        },
        {
          "metadata": {
            "tags": null
          },
          "name": "stdout",
          "output_type": "stream",
          "text": [
            "INFO:tensorflow:Assets written to: /content/drive/MyDrive/Orbit_final_project/bestModel9/checkpoint_46/assets\n"
          ]
        },
        {
          "metadata": {
            "tags": null
          },
          "name": "stderr",
          "output_type": "stream",
          "text": [
            "INFO:tensorflow:Assets written to: /content/drive/MyDrive/Orbit_final_project/bestModel9/checkpoint_46/assets\n"
          ]
        },
        {
          "metadata": {
            "tags": null
          },
          "name": "stdout",
          "output_type": "stream",
          "text": [
            "19/19 [==============================] - 231s 12s/step - loss: 0.7039 - accuracy: 0.9683 - val_loss: 0.8929 - val_accuracy: 0.9217 - lr: 2.5000e-04\n",
            "Epoch 47/100\n",
            "19/19 [==============================] - ETA: 0s - loss: 0.6773 - accuracy: 0.9767\n",
            "Epoch 00047: saving model to /content/drive/MyDrive/Orbit_final_project/bestModel9/checkpoint_47\n"
          ]
        },
        {
          "metadata": {
            "tags": null
          },
          "name": "stderr",
          "output_type": "stream",
          "text": [
            "WARNING:absl:Found untraced functions such as leaky_re_lu_20_layer_call_fn, leaky_re_lu_20_layer_call_and_return_conditional_losses, leaky_re_lu_21_layer_call_fn, leaky_re_lu_21_layer_call_and_return_conditional_losses, leaky_re_lu_20_layer_call_fn while saving (showing 5 of 10). These functions will not be directly callable after loading.\n"
          ]
        },
        {
          "metadata": {
            "tags": null
          },
          "name": "stdout",
          "output_type": "stream",
          "text": [
            "INFO:tensorflow:Assets written to: /content/drive/MyDrive/Orbit_final_project/bestModel9/checkpoint_47/assets\n"
          ]
        },
        {
          "metadata": {
            "tags": null
          },
          "name": "stderr",
          "output_type": "stream",
          "text": [
            "INFO:tensorflow:Assets written to: /content/drive/MyDrive/Orbit_final_project/bestModel9/checkpoint_47/assets\n"
          ]
        },
        {
          "metadata": {
            "tags": null
          },
          "name": "stdout",
          "output_type": "stream",
          "text": [
            "19/19 [==============================] - 231s 12s/step - loss: 0.6773 - accuracy: 0.9767 - val_loss: 0.8771 - val_accuracy: 0.9263 - lr: 2.5000e-04\n",
            "Epoch 48/100\n",
            "19/19 [==============================] - ETA: 0s - loss: 0.6617 - accuracy: 0.9755\n",
            "Epoch 00048: saving model to /content/drive/MyDrive/Orbit_final_project/bestModel9/checkpoint_48\n"
          ]
        },
        {
          "metadata": {
            "tags": null
          },
          "name": "stderr",
          "output_type": "stream",
          "text": [
            "WARNING:absl:Found untraced functions such as leaky_re_lu_20_layer_call_fn, leaky_re_lu_20_layer_call_and_return_conditional_losses, leaky_re_lu_21_layer_call_fn, leaky_re_lu_21_layer_call_and_return_conditional_losses, leaky_re_lu_20_layer_call_fn while saving (showing 5 of 10). These functions will not be directly callable after loading.\n"
          ]
        },
        {
          "metadata": {
            "tags": null
          },
          "name": "stdout",
          "output_type": "stream",
          "text": [
            "INFO:tensorflow:Assets written to: /content/drive/MyDrive/Orbit_final_project/bestModel9/checkpoint_48/assets\n"
          ]
        },
        {
          "metadata": {
            "tags": null
          },
          "name": "stderr",
          "output_type": "stream",
          "text": [
            "INFO:tensorflow:Assets written to: /content/drive/MyDrive/Orbit_final_project/bestModel9/checkpoint_48/assets\n"
          ]
        },
        {
          "metadata": {
            "tags": null
          },
          "name": "stdout",
          "output_type": "stream",
          "text": [
            "19/19 [==============================] - 232s 12s/step - loss: 0.6617 - accuracy: 0.9755 - val_loss: 0.8678 - val_accuracy: 0.9240 - lr: 2.5000e-04\n",
            "Epoch 49/100\n",
            "19/19 [==============================] - ETA: 0s - loss: 0.6460 - accuracy: 0.9786\n",
            "Epoch 00049: saving model to /content/drive/MyDrive/Orbit_final_project/bestModel9/checkpoint_49\n"
          ]
        },
        {
          "metadata": {
            "tags": null
          },
          "name": "stderr",
          "output_type": "stream",
          "text": [
            "WARNING:absl:Found untraced functions such as leaky_re_lu_20_layer_call_fn, leaky_re_lu_20_layer_call_and_return_conditional_losses, leaky_re_lu_21_layer_call_fn, leaky_re_lu_21_layer_call_and_return_conditional_losses, leaky_re_lu_20_layer_call_fn while saving (showing 5 of 10). These functions will not be directly callable after loading.\n"
          ]
        },
        {
          "metadata": {
            "tags": null
          },
          "name": "stdout",
          "output_type": "stream",
          "text": [
            "INFO:tensorflow:Assets written to: /content/drive/MyDrive/Orbit_final_project/bestModel9/checkpoint_49/assets\n"
          ]
        },
        {
          "metadata": {
            "tags": null
          },
          "name": "stderr",
          "output_type": "stream",
          "text": [
            "INFO:tensorflow:Assets written to: /content/drive/MyDrive/Orbit_final_project/bestModel9/checkpoint_49/assets\n"
          ]
        },
        {
          "metadata": {
            "tags": null
          },
          "name": "stdout",
          "output_type": "stream",
          "text": [
            "19/19 [==============================] - 232s 12s/step - loss: 0.6460 - accuracy: 0.9786 - val_loss: 0.8563 - val_accuracy: 0.9240 - lr: 2.5000e-04\n",
            "Epoch 50/100\n",
            "19/19 [==============================] - ETA: 0s - loss: 0.6375 - accuracy: 0.9751\n",
            "Epoch 00050: saving model to /content/drive/MyDrive/Orbit_final_project/bestModel9/checkpoint_50\n"
          ]
        },
        {
          "metadata": {
            "tags": null
          },
          "name": "stderr",
          "output_type": "stream",
          "text": [
            "WARNING:absl:Found untraced functions such as leaky_re_lu_20_layer_call_fn, leaky_re_lu_20_layer_call_and_return_conditional_losses, leaky_re_lu_21_layer_call_fn, leaky_re_lu_21_layer_call_and_return_conditional_losses, leaky_re_lu_20_layer_call_fn while saving (showing 5 of 10). These functions will not be directly callable after loading.\n"
          ]
        },
        {
          "metadata": {
            "tags": null
          },
          "name": "stdout",
          "output_type": "stream",
          "text": [
            "INFO:tensorflow:Assets written to: /content/drive/MyDrive/Orbit_final_project/bestModel9/checkpoint_50/assets\n"
          ]
        },
        {
          "metadata": {
            "tags": null
          },
          "name": "stderr",
          "output_type": "stream",
          "text": [
            "INFO:tensorflow:Assets written to: /content/drive/MyDrive/Orbit_final_project/bestModel9/checkpoint_50/assets\n"
          ]
        },
        {
          "metadata": {
            "tags": null
          },
          "name": "stdout",
          "output_type": "stream",
          "text": [
            "19/19 [==============================] - 231s 12s/step - loss: 0.6375 - accuracy: 0.9751 - val_loss: 0.8512 - val_accuracy: 0.9240 - lr: 2.5000e-04\n",
            "Epoch 51/100\n",
            "19/19 [==============================] - ETA: 0s - loss: 0.6282 - accuracy: 0.9763\n",
            "Epoch 00051: saving model to /content/drive/MyDrive/Orbit_final_project/bestModel9/checkpoint_51\n"
          ]
        },
        {
          "metadata": {
            "tags": null
          },
          "name": "stderr",
          "output_type": "stream",
          "text": [
            "WARNING:absl:Found untraced functions such as leaky_re_lu_20_layer_call_fn, leaky_re_lu_20_layer_call_and_return_conditional_losses, leaky_re_lu_21_layer_call_fn, leaky_re_lu_21_layer_call_and_return_conditional_losses, leaky_re_lu_20_layer_call_fn while saving (showing 5 of 10). These functions will not be directly callable after loading.\n"
          ]
        },
        {
          "metadata": {
            "tags": null
          },
          "name": "stdout",
          "output_type": "stream",
          "text": [
            "INFO:tensorflow:Assets written to: /content/drive/MyDrive/Orbit_final_project/bestModel9/checkpoint_51/assets\n"
          ]
        },
        {
          "metadata": {
            "tags": null
          },
          "name": "stderr",
          "output_type": "stream",
          "text": [
            "INFO:tensorflow:Assets written to: /content/drive/MyDrive/Orbit_final_project/bestModel9/checkpoint_51/assets\n"
          ]
        },
        {
          "metadata": {
            "tags": null
          },
          "name": "stdout",
          "output_type": "stream",
          "text": [
            "19/19 [==============================] - 230s 12s/step - loss: 0.6282 - accuracy: 0.9763 - val_loss: 0.8516 - val_accuracy: 0.9217 - lr: 2.5000e-04\n",
            "Epoch 52/100\n",
            "19/19 [==============================] - ETA: 0s - loss: 0.6177 - accuracy: 0.9751\n",
            "Epoch 00052: saving model to /content/drive/MyDrive/Orbit_final_project/bestModel9/checkpoint_52\n"
          ]
        },
        {
          "metadata": {
            "tags": null
          },
          "name": "stderr",
          "output_type": "stream",
          "text": [
            "WARNING:absl:Found untraced functions such as leaky_re_lu_20_layer_call_fn, leaky_re_lu_20_layer_call_and_return_conditional_losses, leaky_re_lu_21_layer_call_fn, leaky_re_lu_21_layer_call_and_return_conditional_losses, leaky_re_lu_20_layer_call_fn while saving (showing 5 of 10). These functions will not be directly callable after loading.\n"
          ]
        },
        {
          "metadata": {
            "tags": null
          },
          "name": "stdout",
          "output_type": "stream",
          "text": [
            "INFO:tensorflow:Assets written to: /content/drive/MyDrive/Orbit_final_project/bestModel9/checkpoint_52/assets\n"
          ]
        },
        {
          "metadata": {
            "tags": null
          },
          "name": "stderr",
          "output_type": "stream",
          "text": [
            "INFO:tensorflow:Assets written to: /content/drive/MyDrive/Orbit_final_project/bestModel9/checkpoint_52/assets\n"
          ]
        },
        {
          "metadata": {
            "tags": null
          },
          "name": "stdout",
          "output_type": "stream",
          "text": [
            "19/19 [==============================] - 229s 12s/step - loss: 0.6177 - accuracy: 0.9751 - val_loss: 0.8511 - val_accuracy: 0.9263 - lr: 2.5000e-04\n",
            "Epoch 53/100\n",
            "19/19 [==============================] - ETA: 0s - loss: 0.6200 - accuracy: 0.9696\n",
            "Epoch 00053: saving model to /content/drive/MyDrive/Orbit_final_project/bestModel9/checkpoint_53\n"
          ]
        },
        {
          "metadata": {
            "tags": null
          },
          "name": "stderr",
          "output_type": "stream",
          "text": [
            "WARNING:absl:Found untraced functions such as leaky_re_lu_20_layer_call_fn, leaky_re_lu_20_layer_call_and_return_conditional_losses, leaky_re_lu_21_layer_call_fn, leaky_re_lu_21_layer_call_and_return_conditional_losses, leaky_re_lu_20_layer_call_fn while saving (showing 5 of 10). These functions will not be directly callable after loading.\n"
          ]
        },
        {
          "metadata": {
            "tags": null
          },
          "name": "stdout",
          "output_type": "stream",
          "text": [
            "INFO:tensorflow:Assets written to: /content/drive/MyDrive/Orbit_final_project/bestModel9/checkpoint_53/assets\n"
          ]
        },
        {
          "metadata": {
            "tags": null
          },
          "name": "stderr",
          "output_type": "stream",
          "text": [
            "INFO:tensorflow:Assets written to: /content/drive/MyDrive/Orbit_final_project/bestModel9/checkpoint_53/assets\n"
          ]
        },
        {
          "metadata": {
            "tags": null
          },
          "name": "stdout",
          "output_type": "stream",
          "text": [
            "19/19 [==============================] - 224s 12s/step - loss: 0.6200 - accuracy: 0.9696 - val_loss: 0.8381 - val_accuracy: 0.9240 - lr: 2.5000e-04\n",
            "Epoch 54/100\n",
            "19/19 [==============================] - ETA: 0s - loss: 0.6054 - accuracy: 0.9734\n",
            "Epoch 00054: saving model to /content/drive/MyDrive/Orbit_final_project/bestModel9/checkpoint_54\n"
          ]
        },
        {
          "metadata": {
            "tags": null
          },
          "name": "stderr",
          "output_type": "stream",
          "text": [
            "WARNING:absl:Found untraced functions such as leaky_re_lu_20_layer_call_fn, leaky_re_lu_20_layer_call_and_return_conditional_losses, leaky_re_lu_21_layer_call_fn, leaky_re_lu_21_layer_call_and_return_conditional_losses, leaky_re_lu_20_layer_call_fn while saving (showing 5 of 10). These functions will not be directly callable after loading.\n"
          ]
        },
        {
          "metadata": {
            "tags": null
          },
          "name": "stdout",
          "output_type": "stream",
          "text": [
            "INFO:tensorflow:Assets written to: /content/drive/MyDrive/Orbit_final_project/bestModel9/checkpoint_54/assets\n"
          ]
        },
        {
          "metadata": {
            "tags": null
          },
          "name": "stderr",
          "output_type": "stream",
          "text": [
            "INFO:tensorflow:Assets written to: /content/drive/MyDrive/Orbit_final_project/bestModel9/checkpoint_54/assets\n"
          ]
        },
        {
          "metadata": {
            "tags": null
          },
          "name": "stdout",
          "output_type": "stream",
          "text": [
            "19/19 [==============================] - 214s 11s/step - loss: 0.6054 - accuracy: 0.9734 - val_loss: 0.8210 - val_accuracy: 0.9263 - lr: 2.5000e-04\n",
            "Epoch 55/100\n",
            "19/19 [==============================] - ETA: 0s - loss: 0.5930 - accuracy: 0.9762\n",
            "Epoch 00055: saving model to /content/drive/MyDrive/Orbit_final_project/bestModel9/checkpoint_55\n"
          ]
        },
        {
          "metadata": {
            "tags": null
          },
          "name": "stderr",
          "output_type": "stream",
          "text": [
            "WARNING:absl:Found untraced functions such as leaky_re_lu_20_layer_call_fn, leaky_re_lu_20_layer_call_and_return_conditional_losses, leaky_re_lu_21_layer_call_fn, leaky_re_lu_21_layer_call_and_return_conditional_losses, leaky_re_lu_20_layer_call_fn while saving (showing 5 of 10). These functions will not be directly callable after loading.\n"
          ]
        },
        {
          "metadata": {
            "tags": null
          },
          "name": "stdout",
          "output_type": "stream",
          "text": [
            "INFO:tensorflow:Assets written to: /content/drive/MyDrive/Orbit_final_project/bestModel9/checkpoint_55/assets\n"
          ]
        },
        {
          "metadata": {
            "tags": null
          },
          "name": "stderr",
          "output_type": "stream",
          "text": [
            "INFO:tensorflow:Assets written to: /content/drive/MyDrive/Orbit_final_project/bestModel9/checkpoint_55/assets\n"
          ]
        },
        {
          "metadata": {
            "tags": null
          },
          "name": "stdout",
          "output_type": "stream",
          "text": [
            "\n",
            "Epoch 00055: ReduceLROnPlateau reducing learning rate to 0.0001250000059371814.\n",
            "\b\b\b\b\b\b\b\b\b\b\b\b\b\b\b\b\b\b\b\b\b\b\b\b\b\b\b\b\b\b\b\b\b\b\b\b\b\b\b\b\b\b\b\b\b\b\b\b\b\b\b\b\b\b\b\b\b\b\b\b\b\b\b\b\b\b\b\b\b\b\b\b\b\b\b\b\b\b\b\b\b\b\r19/19 [==============================] - 217s 12s/step - loss: 0.5930 - accuracy: 0.9762 - val_loss: 0.8083 - val_accuracy: 0.9263 - lr: 2.5000e-04\n",
            "Epoch 00055: early stopping\n"
          ]
        }
      ],
      "source": [
        "history = newModel.fit(train_generator, validation_data=test_generator, epochs=100,\n",
        "          verbose=1, callbacks=[model_checkpoint, learningrate_decay, earlystopping],\n",
        "          steps_per_epoch=train_steps_per_epoch, validation_steps=val_steps)"
      ]
    },
    {
      "cell_type": "code",
      "execution_count": 58,
      "metadata": {
        "id": "__rth6noJmNZ",
        "colab": {
          "base_uri": "https://localhost:8080/",
          "height": 573
        },
        "outputId": "5d0e5f60-7849-4e73-8936-8c2bd3a3e367"
      },
      "outputs": [
        {
          "output_type": "display_data",
          "data": {
            "image/png": "[encoded data removed]",
            "text/plain": [
              "<Figure size 1440x648 with 2 Axes>"
            ]
          },
          "metadata": {
            "needs_background": "light"
          }
        }
      ],
      "source": [
        "plt.figure(figsize=(20,9))\n",
        "plt.subplot(121)\n",
        "plt.title('grafik loss')\n",
        "plt.plot(history.history['loss'], label='training')\n",
        "plt.plot(history.history['val_loss'], label='validation')\n",
        "plt.legend()\n",
        "\n",
        "plt.subplot(122)\n",
        "plt.title('grafik accuracy')\n",
        "plt.plot(history.history['accuracy'], label='training')\n",
        "plt.plot(history.history['val_accuracy'], label='validation')\n",
        "plt.legend()\n",
        "plt.show()"
      ]
    },
    {
      "cell_type": "code",
      "source": [
        "np.argmax(history.history['val_accuracy'])"
      ],
      "metadata": {
        "colab": {
          "base_uri": "https://localhost:8080/"
        },
        "id": "s0hnPvob23iL",
        "outputId": "ad1074ae-128e-4ba9-c330-e7725859a397"
      },
      "execution_count": 67,
      "outputs": [
        {
          "output_type": "execute_result",
          "data": {
            "text/plain": [
              "34"
            ]
          },
          "metadata": {},
          "execution_count": 67
        }
      ]
    }
  ],
  "metadata": {
    "accelerator": "GPU",
    "colab": {
      "collapsed_sections": [],
      "name": "transfer learning.ipynb",
      "provenance": []
    },
    "kernelspec": {
      "display_name": "Python 3",
      "name": "python3"
    },
    "language_info": {
      "name": "python"
    }
  },
  "nbformat": 4,
  "nbformat_minor": 0
}